{
 "cells": [
  {
   "cell_type": "code",
   "execution_count": 1,
   "metadata": {},
   "outputs": [],
   "source": [
    "import pandas as pd\n",
    "northeast = pd.Series(['CT', 'ME', 'MA', 'NH', 'RI', 'VT', 'NJ', 'NY', 'PA'])\n",
    "south = pd.Series(['DE', 'FL', 'GA', 'MD', 'NC', 'SC', 'VA', 'DC', 'WV', 'AL', 'KY', 'MS', 'TN', 'AR', 'LA', 'OK', 'TX'])\n",
    "midwest = pd.Series(['IL', 'IN', 'MN', 'MO', 'NE', 'ND', 'SD', 'IA', 'KS', 'MI', 'OH', 'WI'])\n",
    "west = pd.Series(['AZ', 'CO', 'ID', 'MT', 'NV', 'NM', 'UT', 'WY', 'AK', 'CA', 'HI', 'OR','WA'])"
   ]
  },
  {
   "cell_type": "markdown",
   "metadata": {},
   "source": [
    "## APPEND()"
   ]
  },
  {
   "cell_type": "code",
   "execution_count": 2,
   "metadata": {},
   "outputs": [
    {
     "name": "stdout",
     "output_type": "stream",
     "text": [
      "0     CT\n",
      "1     ME\n",
      "2     MA\n",
      "3     NH\n",
      "4     RI\n",
      "5     VT\n",
      "6     NJ\n",
      "7     NY\n",
      "8     PA\n",
      "0     DE\n",
      "1     FL\n",
      "2     GA\n",
      "3     MD\n",
      "4     NC\n",
      "5     SC\n",
      "6     VA\n",
      "7     DC\n",
      "8     WV\n",
      "9     AL\n",
      "10    KY\n",
      "11    MS\n",
      "12    TN\n",
      "13    AR\n",
      "14    LA\n",
      "15    OK\n",
      "16    TX\n",
      "dtype: object\n"
     ]
    }
   ],
   "source": [
    "east = northeast.append(south)\n",
    "print(east)"
   ]
  },
  {
   "cell_type": "code",
   "execution_count": 3,
   "metadata": {},
   "outputs": [
    {
     "name": "stdout",
     "output_type": "stream",
     "text": [
      "Int64Index([ 0,  1,  2,  3,  4,  5,  6,  7,  8,  0,  1,  2,  3,  4,  5,  6,  7,\n",
      "             8,  9, 10, 11, 12, 13, 14, 15, 16],\n",
      "           dtype='int64')\n"
     ]
    }
   ],
   "source": [
    "# The appended Index\n",
    "print(east.index)"
   ]
  },
  {
   "cell_type": "code",
   "execution_count": 4,
   "metadata": {},
   "outputs": [
    {
     "name": "stdout",
     "output_type": "stream",
     "text": [
      "3    NH\n",
      "3    MD\n",
      "dtype: object\n"
     ]
    }
   ],
   "source": [
    "print(east.loc[3]) #=> duplication"
   ]
  },
  {
   "cell_type": "code",
   "execution_count": 5,
   "metadata": {},
   "outputs": [
    {
     "name": "stdout",
     "output_type": "stream",
     "text": [
      "0     CT\n",
      "1     ME\n",
      "2     MA\n",
      "3     NH\n",
      "4     RI\n",
      "5     VT\n",
      "6     NJ\n",
      "7     NY\n",
      "8     PA\n",
      "9     DE\n",
      "10    FL\n",
      "dtype: object\n"
     ]
    }
   ],
   "source": [
    "# Using .reset_index()\n",
    "new_east = northeast.append(south).reset_index(drop=True)\n",
    "print(new_east.head(11))"
   ]
  },
  {
   "cell_type": "code",
   "execution_count": 6,
   "metadata": {},
   "outputs": [
    {
     "name": "stdout",
     "output_type": "stream",
     "text": [
      "RangeIndex(start=0, stop=26, step=1)\n"
     ]
    }
   ],
   "source": [
    "print(new_east.index)"
   ]
  },
  {
   "cell_type": "markdown",
   "metadata": {},
   "source": [
    "## CONCAT()"
   ]
  },
  {
   "cell_type": "code",
   "execution_count": 7,
   "metadata": {},
   "outputs": [
    {
     "name": "stdout",
     "output_type": "stream",
     "text": [
      "0    CT\n",
      "1    ME\n",
      "2    MA\n",
      "3    NH\n",
      "4    RI\n",
      "5    VT\n",
      "6    NJ\n",
      "7    NY\n",
      "8    PA\n",
      "0    DE\n",
      "1    FL\n",
      "dtype: object\n"
     ]
    }
   ],
   "source": [
    "east = pd.concat([northeast, south])\n",
    "print(east.head(11))"
   ]
  },
  {
   "cell_type": "code",
   "execution_count": 8,
   "metadata": {},
   "outputs": [
    {
     "name": "stdout",
     "output_type": "stream",
     "text": [
      "Int64Index([ 0,  1,  2,  3,  4,  5,  6,  7,  8,  0,  1,  2,  3,  4,  5,  6,  7,\n",
      "             8,  9, 10, 11, 12, 13, 14, 15, 16],\n",
      "           dtype='int64')\n"
     ]
    }
   ],
   "source": [
    "print(east.index)"
   ]
  },
  {
   "cell_type": "code",
   "execution_count": 9,
   "metadata": {},
   "outputs": [
    {
     "name": "stdout",
     "output_type": "stream",
     "text": [
      "0     CT\n",
      "1     ME\n",
      "2     MA\n",
      "3     NH\n",
      "4     RI\n",
      "5     VT\n",
      "6     NJ\n",
      "7     NY\n",
      "8     PA\n",
      "9     DE\n",
      "10    FL\n",
      "dtype: object\n"
     ]
    }
   ],
   "source": [
    "# Using ignore_index\n",
    "new_east = pd.concat([northeast, south], ignore_index = True)\n",
    "print(new_east.head(11))"
   ]
  },
  {
   "cell_type": "code",
   "execution_count": 10,
   "metadata": {},
   "outputs": [
    {
     "name": "stdout",
     "output_type": "stream",
     "text": [
      "RangeIndex(start=0, stop=26, step=1)\n"
     ]
    }
   ],
   "source": [
    "print(new_east.index)"
   ]
  }
 ],
 "metadata": {
  "kernelspec": {
   "display_name": "Python 3",
   "language": "python",
   "name": "python3"
  },
  "language_info": {
   "codemirror_mode": {
    "name": "ipython",
    "version": 3
   },
   "file_extension": ".py",
   "mimetype": "text/x-python",
   "name": "python",
   "nbconvert_exporter": "python",
   "pygments_lexer": "ipython3",
   "version": "3.6.8"
  }
 },
 "nbformat": 4,
 "nbformat_minor": 2
}
