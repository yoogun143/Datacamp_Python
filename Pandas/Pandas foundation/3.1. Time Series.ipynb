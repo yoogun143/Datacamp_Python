{
 "cells": [
  {
   "cell_type": "code",
   "execution_count": 1,
   "metadata": {},
   "outputs": [],
   "source": [
    "import pandas as pd"
   ]
  },
  {
   "cell_type": "code",
   "execution_count": 2,
   "metadata": {},
   "outputs": [],
   "source": [
    "date_list0 = ['20100101 00:00',\n",
    " '20100101 01:00',\n",
    " '20100101 02:00',\n",
    " '20100101 03:00',\n",
    " '20100101 04:00']\n",
    "\n",
    "date_list1 = ['20100101 00:00',\n",
    " '20100101 01:00',\n",
    " '20100101 02:00',\n",
    " '20100101 03:00',\n",
    " '20100101 04:00',\n",
    " '20100101 05:00',\n",
    " '20100101 06:00',\n",
    " '20100101 07:00',\n",
    " '20100101 08:00',\n",
    " '20100101 09:00']"
   ]
  },
  {
   "cell_type": "markdown",
   "metadata": {},
   "source": [
    "## CREATING TIME SERIES"
   ]
  },
  {
   "cell_type": "code",
   "execution_count": 4,
   "metadata": {},
   "outputs": [
    {
     "data": {
      "text/plain": [
       "2010-01-01 00:00:00    46.2\n",
       "2010-01-01 01:00:00    44.6\n",
       "2010-01-01 02:00:00    44.1\n",
       "2010-01-01 03:00:00    43.8\n",
       "2010-01-01 04:00:00    43.5\n",
       "dtype: float64"
      ]
     },
     "execution_count": 4,
     "metadata": {},
     "output_type": "execute_result"
    }
   ],
   "source": [
    "temperature_list0 = [46.2, 44.6, 44.1, 43.8, 43.5]\n",
    "temperature_list1 = [46.2, 44.6, 44.1, 43.8, 43.5, 43.0, 43.1, 42.3, 42.5, 45.9]\n",
    "\n",
    "# Prepare a format string: time_format\n",
    "time_format = \"%Y-%m-%d %H:%M\"\n",
    "\n",
    "# Convert date_list into a datetime object: my_datetimes\n",
    "my_datetimes0 = pd.to_datetime(date_list0, format=time_format)  \n",
    "my_datetimes1 = pd.to_datetime(date_list1, format=time_format)\n",
    "\n",
    "# Construct a pandas Series using temperature_list and my_datetimes: time_series\n",
    "ts0 = pd.Series(temperature_list0, index=my_datetimes0)\n",
    "ts1 = pd.Series(temperature_list1, index=my_datetimes1)\n",
    "\n",
    "ts0"
   ]
  },
  {
   "cell_type": "markdown",
   "metadata": {},
   "source": [
    "## INDEXING TIME SERIES"
   ]
  },
  {
   "cell_type": "code",
   "execution_count": 6,
   "metadata": {},
   "outputs": [
    {
     "data": {
      "text/plain": [
       "44.6"
      ]
     },
     "execution_count": 6,
     "metadata": {},
     "output_type": "execute_result"
    }
   ],
   "source": [
    "# Extract the hour from 1am to 2am on '2010-10-01': tsa\n",
    "ts0.loc['20100101 01:00:00']"
   ]
  },
  {
   "cell_type": "code",
   "execution_count": 7,
   "metadata": {},
   "outputs": [
    {
     "data": {
      "text/plain": [
       "2010-01-01 00:00:00    46.2\n",
       "2010-01-01 01:00:00    44.6\n",
       "2010-01-01 02:00:00    44.1\n",
       "2010-01-01 03:00:00    43.8\n",
       "2010-01-01 04:00:00    43.5\n",
       "dtype: float64"
      ]
     },
     "execution_count": 7,
     "metadata": {},
     "output_type": "execute_result"
    }
   ],
   "source": [
    "# Extract '2010-01-01' from ts0: tsb\n",
    "ts0.loc[\"2010-01-01\"]"
   ]
  },
  {
   "cell_type": "code",
   "execution_count": 8,
   "metadata": {},
   "outputs": [
    {
     "data": {
      "text/plain": [
       "2010-01-01 00:00:00    46.2\n",
       "2010-01-01 01:00:00    44.6\n",
       "2010-01-01 02:00:00    44.1\n",
       "2010-01-01 03:00:00    43.8\n",
       "2010-01-01 04:00:00    43.5\n",
       "dtype: float64"
      ]
     },
     "execution_count": 8,
     "metadata": {},
     "output_type": "execute_result"
    }
   ],
   "source": [
    "# Extract data from '2010-01-01' to '2010-12-31': tsc\n",
    "ts0.loc[\"2010-01-01\" : \"2010-12-31\"]"
   ]
  },
  {
   "cell_type": "markdown",
   "metadata": {},
   "source": [
    "## REINDEX AND COMBINE DATA"
   ]
  },
  {
   "cell_type": "code",
   "execution_count": 9,
   "metadata": {},
   "outputs": [
    {
     "name": "stdout",
     "output_type": "stream",
     "text": [
      "2010-01-01 00:00:00    46.2\n",
      "2010-01-01 01:00:00    44.6\n",
      "2010-01-01 02:00:00    44.1\n",
      "2010-01-01 03:00:00    43.8\n",
      "2010-01-01 04:00:00    43.5\n",
      "2010-01-01 05:00:00     NaN\n",
      "2010-01-01 06:00:00     NaN\n",
      "2010-01-01 07:00:00     NaN\n",
      "2010-01-01 08:00:00     NaN\n",
      "2010-01-01 09:00:00     NaN\n",
      "dtype: float64\n"
     ]
    }
   ],
   "source": [
    "# Reindex without fill method: ts3\n",
    "ts3 = ts0.reindex(ts1.index)\n",
    "print(ts3)"
   ]
  },
  {
   "cell_type": "code",
   "execution_count": 10,
   "metadata": {},
   "outputs": [
    {
     "name": "stdout",
     "output_type": "stream",
     "text": [
      "2010-01-01 00:00:00    46.2\n",
      "2010-01-01 01:00:00    44.6\n",
      "2010-01-01 02:00:00    44.1\n",
      "2010-01-01 03:00:00    43.8\n",
      "2010-01-01 04:00:00    43.5\n",
      "2010-01-01 05:00:00    43.5\n",
      "2010-01-01 06:00:00    43.5\n",
      "2010-01-01 07:00:00    43.5\n",
      "2010-01-01 08:00:00    43.5\n",
      "2010-01-01 09:00:00    43.5\n",
      "dtype: float64\n"
     ]
    }
   ],
   "source": [
    "# Reindex with fill method, using forward fill: ts4\n",
    "ts4 = ts0.reindex(ts1.index, method=\"ffill\")\n",
    "print(ts4)"
   ]
  },
  {
   "cell_type": "code",
   "execution_count": 11,
   "metadata": {},
   "outputs": [
    {
     "name": "stdout",
     "output_type": "stream",
     "text": [
      "2010-01-01 00:00:00    92.4\n",
      "2010-01-01 01:00:00    89.2\n",
      "2010-01-01 02:00:00    88.2\n",
      "2010-01-01 03:00:00    87.6\n",
      "2010-01-01 04:00:00    87.0\n",
      "2010-01-01 05:00:00     NaN\n",
      "2010-01-01 06:00:00     NaN\n",
      "2010-01-01 07:00:00     NaN\n",
      "2010-01-01 08:00:00     NaN\n",
      "2010-01-01 09:00:00     NaN\n",
      "dtype: float64\n"
     ]
    }
   ],
   "source": [
    "print(ts1 + ts0)"
   ]
  },
  {
   "cell_type": "markdown",
   "metadata": {},
   "source": [
    "## RESAMPLING"
   ]
  },
  {
   "cell_type": "code",
   "execution_count": 13,
   "metadata": {},
   "outputs": [
    {
     "data": {
      "text/html": [
       "<div>\n",
       "<style scoped>\n",
       "    .dataframe tbody tr th:only-of-type {\n",
       "        vertical-align: middle;\n",
       "    }\n",
       "\n",
       "    .dataframe tbody tr th {\n",
       "        vertical-align: top;\n",
       "    }\n",
       "\n",
       "    .dataframe thead th {\n",
       "        text-align: right;\n",
       "    }\n",
       "</style>\n",
       "<table border=\"1\" class=\"dataframe\">\n",
       "  <thead>\n",
       "    <tr style=\"text-align: right;\">\n",
       "      <th></th>\n",
       "      <th>Company</th>\n",
       "      <th>Product</th>\n",
       "      <th>Units</th>\n",
       "    </tr>\n",
       "    <tr>\n",
       "      <th>Date</th>\n",
       "      <th></th>\n",
       "      <th></th>\n",
       "      <th></th>\n",
       "    </tr>\n",
       "  </thead>\n",
       "  <tbody>\n",
       "    <tr>\n",
       "      <th>2015-02-26 08:57:45</th>\n",
       "      <td>Streeplex</td>\n",
       "      <td>Service</td>\n",
       "      <td>4</td>\n",
       "    </tr>\n",
       "    <tr>\n",
       "      <th>2015-02-16 12:09:19</th>\n",
       "      <td>Hooli</td>\n",
       "      <td>Software</td>\n",
       "      <td>10</td>\n",
       "    </tr>\n",
       "    <tr>\n",
       "      <th>2015-02-03 14:14:18</th>\n",
       "      <td>Initech</td>\n",
       "      <td>Software</td>\n",
       "      <td>13</td>\n",
       "    </tr>\n",
       "    <tr>\n",
       "      <th>2015-02-02 08:33:01</th>\n",
       "      <td>Hooli</td>\n",
       "      <td>Software</td>\n",
       "      <td>3</td>\n",
       "    </tr>\n",
       "    <tr>\n",
       "      <th>2015-02-25 00:29:00</th>\n",
       "      <td>Initech</td>\n",
       "      <td>Service</td>\n",
       "      <td>10</td>\n",
       "    </tr>\n",
       "  </tbody>\n",
       "</table>\n",
       "</div>"
      ],
      "text/plain": [
       "                       Company   Product  Units\n",
       "Date                                           \n",
       "2015-02-26 08:57:45  Streeplex   Service      4\n",
       "2015-02-16 12:09:19      Hooli  Software     10\n",
       "2015-02-03 14:14:18    Initech  Software     13\n",
       "2015-02-02 08:33:01      Hooli  Software      3\n",
       "2015-02-25 00:29:00    Initech   Service     10"
      ]
     },
     "execution_count": 13,
     "metadata": {},
     "output_type": "execute_result"
    }
   ],
   "source": [
    "sales = pd.read_csv('sales-feb-2015.csv', parse_dates = True,\n",
    "                    index_col = 'Date')\n",
    "\n",
    "sales.head()"
   ]
  },
  {
   "cell_type": "code",
   "execution_count": 14,
   "metadata": {},
   "outputs": [
    {
     "data": {
      "text/html": [
       "<div>\n",
       "<style scoped>\n",
       "    .dataframe tbody tr th:only-of-type {\n",
       "        vertical-align: middle;\n",
       "    }\n",
       "\n",
       "    .dataframe tbody tr th {\n",
       "        vertical-align: top;\n",
       "    }\n",
       "\n",
       "    .dataframe thead th {\n",
       "        text-align: right;\n",
       "    }\n",
       "</style>\n",
       "<table border=\"1\" class=\"dataframe\">\n",
       "  <thead>\n",
       "    <tr style=\"text-align: right;\">\n",
       "      <th></th>\n",
       "      <th>Units</th>\n",
       "    </tr>\n",
       "    <tr>\n",
       "      <th>Date</th>\n",
       "      <th></th>\n",
       "    </tr>\n",
       "  </thead>\n",
       "  <tbody>\n",
       "    <tr>\n",
       "      <th>2015-02-02</th>\n",
       "      <td>6.0</td>\n",
       "    </tr>\n",
       "    <tr>\n",
       "      <th>2015-02-03</th>\n",
       "      <td>13.0</td>\n",
       "    </tr>\n",
       "    <tr>\n",
       "      <th>2015-02-04</th>\n",
       "      <td>13.5</td>\n",
       "    </tr>\n",
       "    <tr>\n",
       "      <th>2015-02-05</th>\n",
       "      <td>14.5</td>\n",
       "    </tr>\n",
       "    <tr>\n",
       "      <th>2015-02-06</th>\n",
       "      <td>NaN</td>\n",
       "    </tr>\n",
       "    <tr>\n",
       "      <th>2015-02-07</th>\n",
       "      <td>1.0</td>\n",
       "    </tr>\n",
       "    <tr>\n",
       "      <th>2015-02-08</th>\n",
       "      <td>NaN</td>\n",
       "    </tr>\n",
       "    <tr>\n",
       "      <th>2015-02-09</th>\n",
       "      <td>13.0</td>\n",
       "    </tr>\n",
       "    <tr>\n",
       "      <th>2015-02-10</th>\n",
       "      <td>NaN</td>\n",
       "    </tr>\n",
       "    <tr>\n",
       "      <th>2015-02-11</th>\n",
       "      <td>5.5</td>\n",
       "    </tr>\n",
       "    <tr>\n",
       "      <th>2015-02-12</th>\n",
       "      <td>NaN</td>\n",
       "    </tr>\n",
       "    <tr>\n",
       "      <th>2015-02-13</th>\n",
       "      <td>NaN</td>\n",
       "    </tr>\n",
       "    <tr>\n",
       "      <th>2015-02-14</th>\n",
       "      <td>NaN</td>\n",
       "    </tr>\n",
       "    <tr>\n",
       "      <th>2015-02-15</th>\n",
       "      <td>NaN</td>\n",
       "    </tr>\n",
       "    <tr>\n",
       "      <th>2015-02-16</th>\n",
       "      <td>10.0</td>\n",
       "    </tr>\n",
       "    <tr>\n",
       "      <th>2015-02-17</th>\n",
       "      <td>NaN</td>\n",
       "    </tr>\n",
       "    <tr>\n",
       "      <th>2015-02-18</th>\n",
       "      <td>NaN</td>\n",
       "    </tr>\n",
       "    <tr>\n",
       "      <th>2015-02-19</th>\n",
       "      <td>13.0</td>\n",
       "    </tr>\n",
       "    <tr>\n",
       "      <th>2015-02-20</th>\n",
       "      <td>NaN</td>\n",
       "    </tr>\n",
       "    <tr>\n",
       "      <th>2015-02-21</th>\n",
       "      <td>3.0</td>\n",
       "    </tr>\n",
       "    <tr>\n",
       "      <th>2015-02-22</th>\n",
       "      <td>NaN</td>\n",
       "    </tr>\n",
       "    <tr>\n",
       "      <th>2015-02-23</th>\n",
       "      <td>NaN</td>\n",
       "    </tr>\n",
       "    <tr>\n",
       "      <th>2015-02-24</th>\n",
       "      <td>NaN</td>\n",
       "    </tr>\n",
       "    <tr>\n",
       "      <th>2015-02-25</th>\n",
       "      <td>10.0</td>\n",
       "    </tr>\n",
       "    <tr>\n",
       "      <th>2015-02-26</th>\n",
       "      <td>2.5</td>\n",
       "    </tr>\n",
       "  </tbody>\n",
       "</table>\n",
       "</div>"
      ],
      "text/plain": [
       "            Units\n",
       "Date             \n",
       "2015-02-02    6.0\n",
       "2015-02-03   13.0\n",
       "2015-02-04   13.5\n",
       "2015-02-05   14.5\n",
       "2015-02-06    NaN\n",
       "2015-02-07    1.0\n",
       "2015-02-08    NaN\n",
       "2015-02-09   13.0\n",
       "2015-02-10    NaN\n",
       "2015-02-11    5.5\n",
       "2015-02-12    NaN\n",
       "2015-02-13    NaN\n",
       "2015-02-14    NaN\n",
       "2015-02-15    NaN\n",
       "2015-02-16   10.0\n",
       "2015-02-17    NaN\n",
       "2015-02-18    NaN\n",
       "2015-02-19   13.0\n",
       "2015-02-20    NaN\n",
       "2015-02-21    3.0\n",
       "2015-02-22    NaN\n",
       "2015-02-23    NaN\n",
       "2015-02-24    NaN\n",
       "2015-02-25   10.0\n",
       "2015-02-26    2.5"
      ]
     },
     "execution_count": 14,
     "metadata": {},
     "output_type": "execute_result"
    }
   ],
   "source": [
    "# Aggregating means\n",
    "daily_mean = sales.resample('D').mean()\n",
    "daily_mean"
   ]
  },
  {
   "cell_type": "code",
   "execution_count": 15,
   "metadata": {},
   "outputs": [
    {
     "name": "stdout",
     "output_type": "stream",
     "text": [
      "Units    6.0\n",
      "Name: 2015-02-02 00:00:00, dtype: float64\n"
     ]
    }
   ],
   "source": [
    "# Verifying\n",
    "print(daily_mean.loc['2015-2-2'])"
   ]
  },
  {
   "cell_type": "code",
   "execution_count": 16,
   "metadata": {},
   "outputs": [
    {
     "name": "stdout",
     "output_type": "stream",
     "text": [
      "Date\n",
      "2015-02-02 08:33:01    3\n",
      "2015-02-02 20:54:49    9\n",
      "Name: Units, dtype: int64\n"
     ]
    }
   ],
   "source": [
    "print(sales.loc['2015-2-2', 'Units'])"
   ]
  },
  {
   "cell_type": "code",
   "execution_count": 17,
   "metadata": {},
   "outputs": [
    {
     "data": {
      "text/plain": [
       "6.0"
      ]
     },
     "execution_count": 17,
     "metadata": {},
     "output_type": "execute_result"
    }
   ],
   "source": [
    "sales.loc['2015-2-2', 'Units'].mean()"
   ]
  },
  {
   "cell_type": "code",
   "execution_count": 18,
   "metadata": {},
   "outputs": [
    {
     "data": {
      "text/plain": [
       "Units    29\n",
       "dtype: int64"
      ]
     },
     "execution_count": 18,
     "metadata": {},
     "output_type": "execute_result"
    }
   ],
   "source": [
    "# Method chaining\n",
    "sales.resample('D').sum().max()"
   ]
  },
  {
   "cell_type": "code",
   "execution_count": 19,
   "metadata": {},
   "outputs": [
    {
     "data": {
      "text/html": [
       "<div>\n",
       "<style scoped>\n",
       "    .dataframe tbody tr th:only-of-type {\n",
       "        vertical-align: middle;\n",
       "    }\n",
       "\n",
       "    .dataframe tbody tr th {\n",
       "        vertical-align: top;\n",
       "    }\n",
       "\n",
       "    .dataframe thead th {\n",
       "        text-align: right;\n",
       "    }\n",
       "</style>\n",
       "<table border=\"1\" class=\"dataframe\">\n",
       "  <thead>\n",
       "    <tr style=\"text-align: right;\">\n",
       "      <th></th>\n",
       "      <th>Company</th>\n",
       "      <th>Product</th>\n",
       "      <th>Units</th>\n",
       "    </tr>\n",
       "    <tr>\n",
       "      <th>Date</th>\n",
       "      <th></th>\n",
       "      <th></th>\n",
       "      <th></th>\n",
       "    </tr>\n",
       "  </thead>\n",
       "  <tbody>\n",
       "    <tr>\n",
       "      <th>2015-02-08</th>\n",
       "      <td>8</td>\n",
       "      <td>8</td>\n",
       "      <td>8</td>\n",
       "    </tr>\n",
       "    <tr>\n",
       "      <th>2015-02-15</th>\n",
       "      <td>4</td>\n",
       "      <td>4</td>\n",
       "      <td>4</td>\n",
       "    </tr>\n",
       "    <tr>\n",
       "      <th>2015-02-22</th>\n",
       "      <td>5</td>\n",
       "      <td>5</td>\n",
       "      <td>5</td>\n",
       "    </tr>\n",
       "    <tr>\n",
       "      <th>2015-03-01</th>\n",
       "      <td>3</td>\n",
       "      <td>3</td>\n",
       "      <td>3</td>\n",
       "    </tr>\n",
       "  </tbody>\n",
       "</table>\n",
       "</div>"
      ],
      "text/plain": [
       "            Company  Product  Units\n",
       "Date                               \n",
       "2015-02-08        8        8      8\n",
       "2015-02-15        4        4      4\n",
       "2015-02-22        5        5      5\n",
       "2015-03-01        3        3      3"
      ]
     },
     "execution_count": 19,
     "metadata": {},
     "output_type": "execute_result"
    }
   ],
   "source": [
    "# Resampling strings\n",
    "sales.resample('W').count()"
   ]
  },
  {
   "cell_type": "code",
   "execution_count": 20,
   "metadata": {},
   "outputs": [
    {
     "data": {
      "text/plain": [
       "Date\n",
       "2015-02-08    82\n",
       "2015-02-22    79\n",
       "2015-03-08    15\n",
       "Freq: 2W-SUN, Name: Units, dtype: int64"
      ]
     },
     "execution_count": 20,
     "metadata": {},
     "output_type": "execute_result"
    }
   ],
   "source": [
    "# Multiplying frequencies\n",
    "sales.loc[:,'Units'].resample('2W').sum()"
   ]
  },
  {
   "cell_type": "code",
   "execution_count": 21,
   "metadata": {},
   "outputs": [
    {
     "data": {
      "text/plain": [
       "Date\n",
       "2015-02-04 12:00:00     NaN\n",
       "2015-02-04 16:00:00    13.0\n",
       "2015-02-04 20:00:00    13.0\n",
       "2015-02-05 00:00:00    14.0\n",
       "2015-02-05 04:00:00    19.0\n",
       "2015-02-05 08:00:00    19.0\n",
       "2015-02-05 12:00:00    19.0\n",
       "2015-02-05 16:00:00    19.0\n",
       "2015-02-05 20:00:00    19.0\n",
       "Freq: 4H, Name: Units, dtype: float64"
      ]
     },
     "execution_count": 21,
     "metadata": {},
     "output_type": "execute_result"
    }
   ],
   "source": [
    "# Upsampling and filling\n",
    "sales.loc['2015-2-4': '2015-2-5', 'Units'].resample('4H').ffill()"
   ]
  },
  {
   "cell_type": "markdown",
   "metadata": {},
   "source": [
    "## ROLLING MEAN = MOVING AVERAGE"
   ]
  },
  {
   "cell_type": "code",
   "execution_count": 23,
   "metadata": {},
   "outputs": [
    {
     "data": {
      "text/plain": [
       "<matplotlib.axes._subplots.AxesSubplot at 0x1fb2894b1d0>"
      ]
     },
     "execution_count": 23,
     "metadata": {},
     "output_type": "execute_result"
    },
    {
     "data": {
      "image/png": "[encoded data removed]",
      "text/plain": [
       "<Figure size 432x288 with 1 Axes>"
      ]
     },
     "metadata": {
      "needs_background": "light"
     },
     "output_type": "display_data"
    }
   ],
   "source": [
    "# Extract data daily unsmoothed\n",
    "unsmoothed = sales.resample('D').mean().bfill()\n",
    "\n",
    "# Applying a rolling mean with a 4 days window: smoothed\n",
    "smoothed = unsmoothed.rolling(window = '4D').mean()\n",
    "\n",
    "# Create a new DataFrame with columns smoothed and unsmoothed: MA\n",
    "MA = pd.DataFrame({'smoothed':smoothed['Units'], 'unsmoothed':unsmoothed['Units']})\n",
    "\n",
    "# Plot both smoothed and unsmoothed data using august.plot().\n",
    "MA.plot()"
   ]
  },
  {
   "cell_type": "markdown",
   "metadata": {},
   "source": [
    "## DATETIME METHOD"
   ]
  },
  {
   "cell_type": "code",
   "execution_count": 41,
   "metadata": {},
   "outputs": [
    {
     "data": {
      "text/plain": [
       "0      8\n",
       "1     12\n",
       "2     14\n",
       "3      8\n",
       "4      0\n",
       "5      1\n",
       "6      8\n",
       "7     20\n",
       "8     21\n",
       "9     13\n",
       "10    22\n",
       "11    22\n",
       "12     8\n",
       "13    22\n",
       "14    15\n",
       "15    16\n",
       "16    10\n",
       "17    20\n",
       "18     5\n",
       "19    20\n",
       "dtype: int64"
      ]
     },
     "execution_count": 41,
     "metadata": {},
     "output_type": "execute_result"
    }
   ],
   "source": [
    "pd.Series(sales.index.values).dt.hour"
   ]
  },
  {
   "cell_type": "code",
   "execution_count": 44,
   "metadata": {},
   "outputs": [
    {
     "data": {
      "text/plain": [
       "0    2015-02-26 08:57:45-06:00\n",
       "1    2015-02-16 12:09:19-06:00\n",
       "2    2015-02-03 14:14:18-06:00\n",
       "3    2015-02-02 08:33:01-06:00\n",
       "4    2015-02-25 00:29:00-06:00\n",
       "5    2015-02-05 01:53:06-06:00\n",
       "6    2015-02-09 08:57:30-06:00\n",
       "7    2015-02-11 20:03:08-06:00\n",
       "8    2015-02-04 21:52:45-06:00\n",
       "9    2015-02-09 13:09:55-06:00\n",
       "10   2015-02-07 22:58:10-06:00\n",
       "11   2015-02-11 22:50:44-06:00\n",
       "12   2015-02-26 08:58:51-06:00\n",
       "13   2015-02-05 22:05:03-06:00\n",
       "14   2015-02-04 15:36:29-06:00\n",
       "15   2015-02-19 16:02:58-06:00\n",
       "16   2015-02-19 10:59:33-06:00\n",
       "17   2015-02-02 20:54:49-06:00\n",
       "18   2015-02-21 05:01:26-06:00\n",
       "19   2015-02-21 20:41:47-06:00\n",
       "dtype: datetime64[ns, US/Central]"
      ]
     },
     "execution_count": 44,
     "metadata": {},
     "output_type": "execute_result"
    }
   ],
   "source": [
    "#### TIMEZONE\n",
    "# Set timezone\n",
    "central = pd.Series(sales.index.values).dt.tz_localize('US/Central')\n",
    "central"
   ]
  },
  {
   "cell_type": "code",
   "execution_count": 43,
   "metadata": {},
   "outputs": [
    {
     "data": {
      "text/plain": [
       "0    2015-02-26 09:57:45-05:00\n",
       "1    2015-02-16 13:09:19-05:00\n",
       "2    2015-02-03 15:14:18-05:00\n",
       "3    2015-02-02 09:33:01-05:00\n",
       "4    2015-02-25 01:29:00-05:00\n",
       "5    2015-02-05 02:53:06-05:00\n",
       "6    2015-02-09 09:57:30-05:00\n",
       "7    2015-02-11 21:03:08-05:00\n",
       "8    2015-02-04 22:52:45-05:00\n",
       "9    2015-02-09 14:09:55-05:00\n",
       "10   2015-02-07 23:58:10-05:00\n",
       "11   2015-02-11 23:50:44-05:00\n",
       "12   2015-02-26 09:58:51-05:00\n",
       "13   2015-02-05 23:05:03-05:00\n",
       "14   2015-02-04 16:36:29-05:00\n",
       "15   2015-02-19 17:02:58-05:00\n",
       "16   2015-02-19 11:59:33-05:00\n",
       "17   2015-02-02 21:54:49-05:00\n",
       "18   2015-02-21 06:01:26-05:00\n",
       "19   2015-02-21 21:41:47-05:00\n",
       "dtype: datetime64[ns, US/Eastern]"
      ]
     },
     "execution_count": 43,
     "metadata": {},
     "output_type": "execute_result"
    }
   ],
   "source": [
    "# Convert timezone\n",
    "central.dt.tz_convert('US/Eastern')"
   ]
  },
  {
   "cell_type": "markdown",
   "metadata": {},
   "source": [
    "## VISUALIZATION"
   ]
  },
  {
   "cell_type": "code",
   "execution_count": 45,
   "metadata": {},
   "outputs": [
    {
     "data": {
      "text/plain": [
       "<matplotlib.axes._subplots.AxesSubplot at 0x1fb28ebde10>"
      ]
     },
     "execution_count": 45,
     "metadata": {},
     "output_type": "execute_result"
    },
    {
     "data": {
      "image/png": "[encoded data removed]",
      "text/plain": [
       "<Figure size 432x288 with 1 Axes>"
      ]
     },
     "metadata": {
      "needs_background": "light"
     },
     "output_type": "display_data"
    }
   ],
   "source": [
    "import matplotlib as plt\n",
    "sales.loc['2015-2-4': '2015-2-5','Units'].plot(style='k.-', kind = 'area',\n",
    "                                               title = 'Sales ne')"
   ]
  },
  {
   "cell_type": "markdown",
   "metadata": {},
   "source": [
    "## CHANGE DATETIME INDEX"
   ]
  },
  {
   "cell_type": "code",
   "execution_count": 46,
   "metadata": {},
   "outputs": [
    {
     "data": {
      "text/plain": [
       "DatetimeIndex(['2015-02-26 08:57:45', '2015-02-16 12:09:19',\n",
       "               '2015-02-03 14:14:18', '2015-02-02 08:33:01',\n",
       "               '2015-02-25 00:29:00', '2015-02-05 01:53:06',\n",
       "               '2015-02-09 08:57:30', '2015-02-11 20:03:08',\n",
       "               '2015-02-04 21:52:45', '2015-02-09 13:09:55',\n",
       "               '2015-02-07 22:58:10', '2015-02-11 22:50:44',\n",
       "               '2015-02-26 08:58:51', '2015-02-05 22:05:03',\n",
       "               '2015-02-04 15:36:29', '2015-02-19 16:02:58',\n",
       "               '2015-02-19 10:59:33', '2015-02-02 20:54:49',\n",
       "               '2015-02-21 05:01:26', '2015-02-21 20:41:47'],\n",
       "              dtype='datetime64[ns]', name='Date', freq=None)"
      ]
     },
     "execution_count": 46,
     "metadata": {},
     "output_type": "execute_result"
    }
   ],
   "source": [
    "sales.index"
   ]
  },
  {
   "cell_type": "code",
   "execution_count": 47,
   "metadata": {},
   "outputs": [
    {
     "data": {
      "text/plain": [
       "Index(['Thu', 'Mon', 'Tue', 'Mon', 'Wed', 'Thu', 'Mon', 'Wed', 'Wed', 'Mon',\n",
       "       'Sat', 'Wed', 'Thu', 'Thu', 'Wed', 'Thu', 'Thu', 'Mon', 'Sat', 'Sat'],\n",
       "      dtype='object')"
      ]
     },
     "execution_count": 47,
     "metadata": {},
     "output_type": "execute_result"
    }
   ],
   "source": [
    "# transform the index datetime values to abbreviated days of the week. \n",
    "sales.index.strftime(\"%a\")"
   ]
  }
 ],
 "metadata": {
  "kernelspec": {
   "display_name": "Python 3",
   "language": "python",
   "name": "python3"
  },
  "language_info": {
   "codemirror_mode": {
    "name": "ipython",
    "version": 3
   },
   "file_extension": ".py",
   "mimetype": "text/x-python",
   "name": "python",
   "nbconvert_exporter": "python",
   "pygments_lexer": "ipython3",
   "version": "3.6.8"
  }
 },
 "nbformat": 4,
 "nbformat_minor": 2
}
