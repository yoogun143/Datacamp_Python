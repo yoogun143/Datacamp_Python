{
 "cells": [
  {
   "cell_type": "markdown",
   "metadata": {
    "toc": true
   },
   "source": [
    "<h1>Table of Contents<span class=\"tocSkip\"></span></h1>\n",
    "<div class=\"toc\"><ul class=\"toc-item\"><li><span><a href=\"#RECODE-MALE-TO-1,-FEMALE-TO-0\" data-toc-modified-id=\"RECODE-MALE-TO-1,-FEMALE-TO-0-1\"><span class=\"toc-item-num\">1&nbsp;&nbsp;</span>RECODE MALE TO 1, FEMALE TO 0</a></span></li><li><span><a href=\"#LAMBDA-FUNCTION\" data-toc-modified-id=\"LAMBDA-FUNCTION-2\"><span class=\"toc-item-num\">2&nbsp;&nbsp;</span>LAMBDA FUNCTION</a></span></li></ul></div>"
   ]
  },
  {
   "cell_type": "code",
   "execution_count": 3,
   "metadata": {},
   "outputs": [
    {
     "name": "stdout",
     "output_type": "stream",
     "text": [
      "   total_bill   tip     sex smoker  day    time  size\n",
      "0       16.99  1.01  Female     No  Sun  Dinner     2\n",
      "1       10.34  1.66    Male     No  Sun  Dinner     3\n",
      "2       21.01  3.50    Male     No  Sun  Dinner     3\n",
      "3       23.68  3.31    Male     No  Sun  Dinner     2\n",
      "4       24.59  3.61  Female     No  Sun  Dinner     4\n"
     ]
    }
   ],
   "source": [
    "import numpy as np\n",
    "import pandas as pd\n",
    "import re\n",
    "tips = pd.read_csv('tips.csv')\n",
    "\n",
    "print(tips.head())"
   ]
  },
  {
   "cell_type": "code",
   "execution_count": 4,
   "metadata": {},
   "outputs": [
    {
     "name": "stdout",
     "output_type": "stream",
     "text": [
      "   total_bill   tip     sex smoker  day    time  size total_dollar\n",
      "0       16.99  1.01  Female     No  Sun  Dinner     2       $16.99\n",
      "1       10.34  1.66    Male     No  Sun  Dinner     3       $10.34\n",
      "2       21.01  3.50    Male     No  Sun  Dinner     3       $21.01\n",
      "3       23.68  3.31    Male     No  Sun  Dinner     2       $23.68\n",
      "4       24.59  3.61  Female     No  Sun  Dinner     4       $24.59\n"
     ]
    }
   ],
   "source": [
    "for lab, row in tips.iterrows():\n",
    "    tips.loc[lab, 'total_dollar'] = '$' + str(tips.loc[lab, 'total_bill'])\n",
    "    \n",
    "print(tips.head())"
   ]
  },
  {
   "cell_type": "markdown",
   "metadata": {},
   "source": [
    "## RECODE MALE TO 1, FEMALE TO 0"
   ]
  },
  {
   "cell_type": "code",
   "execution_count": 5,
   "metadata": {},
   "outputs": [
    {
     "name": "stdout",
     "output_type": "stream",
     "text": [
      "   total_bill   tip     sex smoker  day    time  size total_dollar  sex_recode\n",
      "0       16.99  1.01  Female     No  Sun  Dinner     2       $16.99           0\n",
      "1       10.34  1.66    Male     No  Sun  Dinner     3       $10.34           1\n",
      "2       21.01  3.50    Male     No  Sun  Dinner     3       $21.01           1\n",
      "3       23.68  3.31    Male     No  Sun  Dinner     2       $23.68           1\n",
      "4       24.59  3.61  Female     No  Sun  Dinner     4       $24.59           0\n"
     ]
    }
   ],
   "source": [
    "# Define recode_sex()\n",
    "def recode_sex(sex_value):\n",
    "\n",
    "    # Return 1 if sex_value is 'Male'\n",
    "    if sex_value == \"Male\":\n",
    "        return 1\n",
    "    \n",
    "    # Return 0 if sex_value is 'Female'    \n",
    "    elif sex_value == \"Female\":\n",
    "        return 0\n",
    "    \n",
    "    # Return np.nan    \n",
    "    else:\n",
    "        return np.nan\n",
    "\n",
    "# Apply the function to the sex column\n",
    "tips['sex_recode'] = tips.sex.apply(recode_sex)\n",
    "\n",
    "# Print the first five rows of tips\n",
    "print(tips.head())"
   ]
  },
  {
   "cell_type": "markdown",
   "metadata": {},
   "source": [
    "## LAMBDA FUNCTION"
   ]
  },
  {
   "cell_type": "code",
   "execution_count": 6,
   "metadata": {},
   "outputs": [
    {
     "name": "stdout",
     "output_type": "stream",
     "text": [
      "   total_bill   tip     sex smoker  day    time  size total_dollar  \\\n",
      "0       16.99  1.01  Female     No  Sun  Dinner     2       $16.99   \n",
      "1       10.34  1.66    Male     No  Sun  Dinner     3       $10.34   \n",
      "2       21.01  3.50    Male     No  Sun  Dinner     3       $21.01   \n",
      "3       23.68  3.31    Male     No  Sun  Dinner     2       $23.68   \n",
      "4       24.59  3.61  Female     No  Sun  Dinner     4       $24.59   \n",
      "\n",
      "   sex_recode total_dollar_replace total_dollar_re  \n",
      "0           0                16.99           16.99  \n",
      "1           1                10.34           10.34  \n",
      "2           1                21.01           21.01  \n",
      "3           1                23.68           23.68  \n",
      "4           0                24.59           24.59  \n"
     ]
    }
   ],
   "source": [
    "# Write the lambda function using replace\n",
    "tips['total_dollar_replace'] = tips.total_dollar.apply(lambda x: x.replace('$', ''))\n",
    "\n",
    "# Write the lambda function using regular expressions\n",
    "tips['total_dollar_re'] = tips.total_dollar.apply(lambda x: re.findall('\\d+\\.\\d+', x)[0])\n",
    "\n",
    "# Print the head of tips\n",
    "print(tips.head())"
   ]
  },
  {
   "cell_type": "code",
   "execution_count": null,
   "metadata": {},
   "outputs": [],
   "source": []
  }
 ],
 "metadata": {
  "kernelspec": {
   "display_name": "Python 3",
   "language": "python",
   "name": "python3"
  },
  "language_info": {
   "codemirror_mode": {
    "name": "ipython",
    "version": 3
   },
   "file_extension": ".py",
   "mimetype": "text/x-python",
   "name": "python",
   "nbconvert_exporter": "python",
   "pygments_lexer": "ipython3",
   "version": "3.6.8"
  },
  "toc": {
   "base_numbering": 1,
   "nav_menu": {},
   "number_sections": true,
   "sideBar": true,
   "skip_h1_title": false,
   "title_cell": "Table of Contents",
   "title_sidebar": "Contents",
   "toc_cell": true,
   "toc_position": {},
   "toc_section_display": true,
   "toc_window_display": false
  }
 },
 "nbformat": 4,
 "nbformat_minor": 2
}
