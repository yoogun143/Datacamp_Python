{
 "cells": [
  {
   "cell_type": "code",
   "execution_count": 1,
   "metadata": {},
   "outputs": [],
   "source": [
    "import pandas as pd\n",
    "file = pd.read_csv('literacy_birth_rate.csv')"
   ]
  },
  {
   "cell_type": "code",
   "execution_count": 2,
   "metadata": {},
   "outputs": [],
   "source": [
    "# Import figure from bokeh.plotting\n",
    "from bokeh.plotting import figure\n",
    "\n",
    "# Import output_file and show from bokeh.io\n",
    "from bokeh.io import output_file, show\n",
    "\n",
    "# Import the ColumnDataSource class from bokeh.plotting\n",
    "from bokeh.plotting import ColumnDataSource\n",
    "\n",
    "# Create a ColumnDataSource from df: source\n",
    "source = ColumnDataSource(file)"
   ]
  },
  {
   "cell_type": "markdown",
   "metadata": {},
   "source": [
    "## ROW OF PLOTS (COLUMN)"
   ]
  },
  {
   "cell_type": "code",
   "execution_count": 5,
   "metadata": {},
   "outputs": [],
   "source": [
    "# Import row from bokeh.layouts\n",
    "from bokeh.layouts import row\n",
    "\n",
    "# Create the first figure: p1\n",
    "p1 = figure(x_axis_label='fertility (children per woman)', y_axis_label='female_literacy (% population)')\n",
    "\n",
    "# Add a circle glyph to p1\n",
    "p1.circle(x = 'fertility', y = 'female literacy', source = source)\n",
    "\n",
    "# Create the second figure: p2\n",
    "p2 = figure(x_axis_label='population', y_axis_label='female_literacy (% population)')\n",
    "\n",
    "# Add a circle glyph to p2\n",
    "p2.circle(x = 'population', y = 'female literacy', source = source)\n",
    "\n",
    "# Put p1 and p2 into a horizontal row: layout\n",
    "layout = row(p1, p2)\n",
    "\n",
    "# Specify the name of the output_file and show the result\n",
    "output_file('fert_row.html')\n",
    "show(layout)"
   ]
  },
  {
   "cell_type": "markdown",
   "metadata": {},
   "source": [
    "## NEST ROWS AND COLUMNS (ERROR)"
   ]
  },
  {
   "cell_type": "code",
   "execution_count": null,
   "metadata": {},
   "outputs": [],
   "source": [
    "# Import column and row from bokeh.layouts\n",
    "from bokeh.layouts import column, row\n",
    "\n",
    "# Make a column layout that will be used as the second row: row2\n",
    "row2 = column([p1, p2], sizing_mode='scale_width')\n",
    "\n",
    "# Make a row layout that includes the above column layout: layout\n",
    "layout = row([None, row2], sizing_mode='scale_width')\n",
    "\n",
    "# Specify the name of the output_file and show the result\n",
    "output_file('layout_custom.html')\n",
    "show(layout)"
   ]
  },
  {
   "cell_type": "markdown",
   "metadata": {},
   "source": [
    "## GRIDDED LAYOUT"
   ]
  },
  {
   "cell_type": "code",
   "execution_count": null,
   "metadata": {},
   "outputs": [],
   "source": [
    "# Import gridplot from bokeh.layouts\n",
    "from bokeh.layouts import gridplot\n",
    "\n",
    "# Create a list containing plots p1 and p2: row1\n",
    "row1 = [None, p1]\n",
    "\n",
    "# Create a list containing plots p3 and p4: row2\n",
    "row2 = [p2, None]\n",
    "\n",
    "# Create a gridplot using row1 and row2: layout\n",
    "layout = gridplot([row1, row2])\n",
    "\n",
    "# Specify the name of the output_file and show the result\n",
    "output_file('grid.html')\n",
    "show(layout)"
   ]
  },
  {
   "cell_type": "markdown",
   "metadata": {},
   "source": [
    "## TABBED LAYOUT"
   ]
  },
  {
   "cell_type": "code",
   "execution_count": null,
   "metadata": {},
   "outputs": [],
   "source": [
    "# Import Panel from bokeh.models.widgets\n",
    "from bokeh.models.widgets import Panel, Tabs\n",
    "\n",
    "# Create a Panel with a title for each tab\n",
    "first = Panel(child=p1, title='first')\n",
    "second = Panel(child=p2, title='second')\n",
    "\n",
    "# Put the Panels in a Tabs object\n",
    "tabs = Tabs(tabs=[first, second])\n",
    "\n",
    "# Specify the name of the output_file and show the result\n",
    "output_file('tabbed.html')\n",
    "show(tabs)"
   ]
  }
 ],
 "metadata": {
  "kernelspec": {
   "display_name": "Python 3",
   "language": "python",
   "name": "python3"
  },
  "language_info": {
   "codemirror_mode": {
    "name": "ipython",
    "version": 3
   },
   "file_extension": ".py",
   "mimetype": "text/x-python",
   "name": "python",
   "nbconvert_exporter": "python",
   "pygments_lexer": "ipython3",
   "version": "3.6.8"
  }
 },
 "nbformat": 4,
 "nbformat_minor": 2
}
