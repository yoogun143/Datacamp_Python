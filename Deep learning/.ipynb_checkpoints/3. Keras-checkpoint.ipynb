{
 "cells": [
  {
   "cell_type": "markdown",
   "metadata": {
    "toc": true
   },
   "source": [
    "<h1>Table of Contents<span class=\"tocSkip\"></span></h1>\n",
    "<div class=\"toc\"><ul class=\"toc-item\"><li><span><a href=\"#REGRESSION\" data-toc-modified-id=\"REGRESSION-1\"><span class=\"toc-item-num\">1&nbsp;&nbsp;</span>REGRESSION</a></span></li><li><span><a href=\"#CLASSIFICATION\" data-toc-modified-id=\"CLASSIFICATION-2\"><span class=\"toc-item-num\">2&nbsp;&nbsp;</span>CLASSIFICATION</a></span></li></ul></div>"
   ]
  },
  {
   "cell_type": "code",
   "execution_count": 2,
   "metadata": {},
   "outputs": [],
   "source": [
    "import pandas as pd\n",
    "df = pd.read_csv('hourly_wages.csv')\n",
    "\n",
    "target = df.iloc[:, 0].values\n",
    "predictors = df.iloc[:,1:].values.reshape(-1,9)"
   ]
  },
  {
   "cell_type": "code",
   "execution_count": 6,
   "metadata": {},
   "outputs": [
    {
     "name": "stdout",
     "output_type": "stream",
     "text": [
      "(534,)\n",
      "(534, 9)\n"
     ]
    }
   ],
   "source": [
    "print(target.shape)\n",
    "print(predictors.shape)"
   ]
  },
  {
   "cell_type": "markdown",
   "metadata": {},
   "source": [
    "## REGRESSION"
   ]
  },
  {
   "cell_type": "code",
   "execution_count": 7,
   "metadata": {},
   "outputs": [
    {
     "name": "stderr",
     "output_type": "stream",
     "text": [
      "Using TensorFlow backend.\n"
     ]
    }
   ],
   "source": [
    "# Import necessary modules\n",
    "import keras\n",
    "from keras.layers import Dense\n",
    "from keras.models import Sequential"
   ]
  },
  {
   "cell_type": "code",
   "execution_count": 8,
   "metadata": {},
   "outputs": [],
   "source": [
    "# Save the number of columns in predictors: n_cols\n",
    "n_cols = predictors.shape[1]"
   ]
  },
  {
   "cell_type": "code",
   "execution_count": 9,
   "metadata": {},
   "outputs": [
    {
     "name": "stdout",
     "output_type": "stream",
     "text": [
      "Loss function: mean_squared_error\n"
     ]
    }
   ],
   "source": [
    "# Set up the model: model\n",
    "model = Sequential()\n",
    "\n",
    "# Add the first layer\n",
    "model.add(Dense(50, activation='relu', input_shape=(n_cols,)))\n",
    "\n",
    "# Add the second layer\n",
    "model.add(Dense(32, activation='relu'))\n",
    "\n",
    "# Add the output layer\n",
    "model.add(Dense(1))\n",
    "\n",
    "# Compile the model\n",
    "model.compile(optimizer='adam', loss='mean_squared_error')\n",
    "\n",
    "# Verify that model contains information from compiling\n",
    "print(\"Loss function: \" + model.loss)"
   ]
  },
  {
   "cell_type": "code",
   "execution_count": 10,
   "metadata": {},
   "outputs": [
    {
     "name": "stdout",
     "output_type": "stream",
     "text": [
      "Epoch 1/20\n",
      "534/534 [==============================] - 4s 8ms/step - loss: 32.5482\n",
      "Epoch 2/20\n",
      "534/534 [==============================] - 0s 75us/step - loss: 24.6481\n",
      "Epoch 3/20\n",
      "534/534 [==============================] - 0s 75us/step - loss: 22.5530\n",
      "Epoch 4/20\n",
      "534/534 [==============================] - 0s 75us/step - loss: 22.0451\n",
      "Epoch 5/20\n",
      "534/534 [==============================] - 0s 73us/step - loss: 21.6018\n",
      "Epoch 6/20\n",
      "534/534 [==============================] - 0s 75us/step - loss: 21.4215\n",
      "Epoch 7/20\n",
      "534/534 [==============================] - 0s 71us/step - loss: 21.4161\n",
      "Epoch 8/20\n",
      "534/534 [==============================] - 0s 75us/step - loss: 21.0286\n",
      "Epoch 9/20\n",
      "534/534 [==============================] - 0s 75us/step - loss: 20.9502\n",
      "Epoch 10/20\n",
      "534/534 [==============================] - 0s 73us/step - loss: 20.7334\n",
      "Epoch 11/20\n",
      "534/534 [==============================] - 0s 73us/step - loss: 20.5083\n",
      "Epoch 12/20\n",
      "534/534 [==============================] - 0s 75us/step - loss: 20.4433\n",
      "Epoch 13/20\n",
      "534/534 [==============================] - 0s 75us/step - loss: 20.4629\n",
      "Epoch 14/20\n",
      "534/534 [==============================] - 0s 73us/step - loss: 20.3512\n",
      "Epoch 15/20\n",
      "534/534 [==============================] - 0s 73us/step - loss: 20.6377\n",
      "Epoch 16/20\n",
      "534/534 [==============================] - 0s 75us/step - loss: 20.0779\n",
      "Epoch 17/20\n",
      "534/534 [==============================] - 0s 77us/step - loss: 19.9051\n",
      "Epoch 18/20\n",
      "534/534 [==============================] - 0s 75us/step - loss: 19.8252\n",
      "Epoch 19/20\n",
      "534/534 [==============================] - 0s 73us/step - loss: 19.6957\n",
      "Epoch 20/20\n",
      "534/534 [==============================] - 0s 76us/step - loss: 19.9084\n"
     ]
    },
    {
     "data": {
      "text/plain": [
       "<keras.callbacks.History at 0x25ab47b84e0>"
      ]
     },
     "execution_count": 10,
     "metadata": {},
     "output_type": "execute_result"
    }
   ],
   "source": [
    "# Fit the model\n",
    "model.fit(predictors, target, epochs = 20)"
   ]
  },
  {
   "cell_type": "markdown",
   "metadata": {},
   "source": [
    "## CLASSIFICATION"
   ]
  },
  {
   "cell_type": "code",
   "execution_count": 11,
   "metadata": {},
   "outputs": [],
   "source": [
    "df = pd.read_csv('titanic_all_numeric.csv')\n",
    "predictors = df.iloc[:,1:].values.reshape(-1,10)"
   ]
  },
  {
   "cell_type": "code",
   "execution_count": 12,
   "metadata": {},
   "outputs": [],
   "source": [
    "# Save the number of columns in predictors: n_cols\n",
    "n_cols = predictors.shape[1]"
   ]
  },
  {
   "cell_type": "code",
   "execution_count": 13,
   "metadata": {},
   "outputs": [],
   "source": [
    "# Import necessary modules\n",
    "import keras\n",
    "from keras.layers import Dense\n",
    "from keras.models import Sequential\n",
    "from keras.utils import to_categorical"
   ]
  },
  {
   "cell_type": "code",
   "execution_count": 14,
   "metadata": {},
   "outputs": [],
   "source": [
    "# Convert the target to categorical: target\n",
    "target = to_categorical(df.survived)"
   ]
  },
  {
   "cell_type": "code",
   "execution_count": 15,
   "metadata": {},
   "outputs": [],
   "source": [
    "# Set up the model\n",
    "model = Sequential()\n",
    "\n",
    "# Add the first layer\n",
    "model.add(Dense(32, activation='relu', input_shape=(n_cols,)))\n",
    "\n",
    "# Add the output layer\n",
    "model.add(Dense(2, activation='softmax')) # softmax for classification\n",
    "\n",
    "# Compile the model\n",
    "model.compile(optimizer='sgd', loss='categorical_crossentropy', metrics=['accuracy'])"
   ]
  },
  {
   "cell_type": "code",
   "execution_count": 16,
   "metadata": {},
   "outputs": [
    {
     "name": "stdout",
     "output_type": "stream",
     "text": [
      "Epoch 1/20\n",
      "891/891 [==============================] - 0s 558us/step - loss: 2.9341 - acc: 0.6162\n",
      "Epoch 2/20\n",
      "891/891 [==============================] - 0s 97us/step - loss: 1.7965 - acc: 0.6072\n",
      "Epoch 3/20\n",
      "891/891 [==============================] - 0s 72us/step - loss: 1.0638 - acc: 0.6105\n",
      "Epoch 4/20\n",
      "891/891 [==============================] - 0s 67us/step - loss: 0.7507 - acc: 0.6352\n",
      "Epoch 5/20\n",
      "891/891 [==============================] - 0s 68us/step - loss: 0.6379 - acc: 0.6992\n",
      "Epoch 6/20\n",
      "891/891 [==============================] - 0s 67us/step - loss: 0.6294 - acc: 0.6835\n",
      "Epoch 7/20\n",
      "891/891 [==============================] - 0s 68us/step - loss: 0.6154 - acc: 0.6857\n",
      "Epoch 8/20\n",
      "891/891 [==============================] - 0s 65us/step - loss: 0.5984 - acc: 0.6981\n",
      "Epoch 9/20\n",
      "891/891 [==============================] - 0s 66us/step - loss: 0.6101 - acc: 0.6992\n",
      "Epoch 10/20\n",
      "891/891 [==============================] - 0s 64us/step - loss: 0.6071 - acc: 0.6891\n",
      "Epoch 11/20\n",
      "891/891 [==============================] - 0s 66us/step - loss: 0.5915 - acc: 0.7059\n",
      "Epoch 12/20\n",
      "891/891 [==============================] - 0s 65us/step - loss: 0.5839 - acc: 0.7037\n",
      "Epoch 13/20\n",
      "891/891 [==============================] - 0s 66us/step - loss: 0.5949 - acc: 0.7149\n",
      "Epoch 14/20\n",
      "891/891 [==============================] - 0s 67us/step - loss: 0.5807 - acc: 0.7104\n",
      "Epoch 15/20\n",
      "891/891 [==============================] - 0s 66us/step - loss: 0.5837 - acc: 0.7138\n",
      "Epoch 16/20\n",
      "891/891 [==============================] - 0s 63us/step - loss: 0.5815 - acc: 0.7059\n",
      "Epoch 17/20\n",
      "891/891 [==============================] - 0s 67us/step - loss: 0.5739 - acc: 0.7172\n",
      "Epoch 18/20\n",
      "891/891 [==============================] - 0s 68us/step - loss: 0.5809 - acc: 0.7183\n",
      "Epoch 19/20\n",
      "891/891 [==============================] - 0s 70us/step - loss: 0.5794 - acc: 0.7116\n",
      "Epoch 20/20\n",
      "891/891 [==============================] - 0s 68us/step - loss: 0.5850 - acc: 0.7071\n"
     ]
    },
    {
     "data": {
      "text/plain": [
       "<keras.callbacks.History at 0x25ab47b8b00>"
      ]
     },
     "execution_count": 16,
     "metadata": {},
     "output_type": "execute_result"
    }
   ],
   "source": [
    "# Fit the model\n",
    "model.fit(predictors, target, epochs = 20)"
   ]
  },
  {
   "cell_type": "code",
   "execution_count": 21,
   "metadata": {},
   "outputs": [],
   "source": [
    "# Calculate predictions: predictions\n",
    "pred_data = predictors[1:10,:]\n",
    "predictions = model.predict(pred_data)\n",
    "\n",
    "# Calculate predicted probability of survival: predicted_prob_true\n",
    "predicted_prob_true = predictions[:,1]"
   ]
  },
  {
   "cell_type": "code",
   "execution_count": 22,
   "metadata": {},
   "outputs": [
    {
     "name": "stdout",
     "output_type": "stream",
     "text": [
      "[[0.48597828 0.51402175]\n",
      " [0.8000176  0.19998235]\n",
      " [0.46381736 0.53618264]\n",
      " [0.89103776 0.10896224]\n",
      " [0.860142   0.139858  ]\n",
      " [0.6144242  0.38557577]\n",
      " [0.5401663  0.45983365]\n",
      " [0.7980032  0.2019968 ]\n",
      " [0.5335077  0.46649235]]\n"
     ]
    }
   ],
   "source": [
    "print(predictions)"
   ]
  }
 ],
 "metadata": {
  "kernelspec": {
   "display_name": "Python 3",
   "language": "python",
   "name": "python3"
  },
  "language_info": {
   "codemirror_mode": {
    "name": "ipython",
    "version": 3
   },
   "file_extension": ".py",
   "mimetype": "text/x-python",
   "name": "python",
   "nbconvert_exporter": "python",
   "pygments_lexer": "ipython3",
   "version": "3.6.8"
  },
  "toc": {
   "base_numbering": 1,
   "nav_menu": {},
   "number_sections": true,
   "sideBar": true,
   "skip_h1_title": false,
   "title_cell": "Table of Contents",
   "title_sidebar": "Contents",
   "toc_cell": true,
   "toc_position": {},
   "toc_section_display": true,
   "toc_window_display": false
  }
 },
 "nbformat": 4,
 "nbformat_minor": 2
}
