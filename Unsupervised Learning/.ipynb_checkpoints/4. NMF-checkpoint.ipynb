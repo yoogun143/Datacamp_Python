{
 "cells": [
  {
   "cell_type": "markdown",
   "metadata": {
    "toc": true
   },
   "source": [
    "<h1>Table of Contents<span class=\"tocSkip\"></span></h1>\n",
    "<div class=\"toc\"><ul class=\"toc-item\"><li><span><a href=\"#NMF\" data-toc-modified-id=\"NMF-1\"><span class=\"toc-item-num\">1&nbsp;&nbsp;</span>NMF</a></span></li><li><span><a href=\"#NMF-TO-TEXT\" data-toc-modified-id=\"NMF-TO-TEXT-2\"><span class=\"toc-item-num\">2&nbsp;&nbsp;</span>NMF TO TEXT</a></span></li><li><span><a href=\"#NMF-FOR-TEXT-APPLICATION:-RECOMMENDER-SYSTEM-I\" data-toc-modified-id=\"NMF-FOR-TEXT-APPLICATION:-RECOMMENDER-SYSTEM-I-3\"><span class=\"toc-item-num\">3&nbsp;&nbsp;</span>NMF FOR TEXT APPLICATION: RECOMMENDER SYSTEM I</a></span><ul class=\"toc-item\"><li><span><a href=\"#Recommend-the-articles-that-relate-to-the-current-articles\" data-toc-modified-id=\"Recommend-the-articles-that-relate-to-the-current-articles-3.1\"><span class=\"toc-item-num\">3.1&nbsp;&nbsp;</span>Recommend the articles that relate to the current articles</a></span></li></ul></li><li><span><a href=\"#NMF-FOR-TEXT-APPLICATION:-RECOMMENDER-SYSTEM-II\" data-toc-modified-id=\"NMF-FOR-TEXT-APPLICATION:-RECOMMENDER-SYSTEM-II-4\"><span class=\"toc-item-num\">4&nbsp;&nbsp;</span>NMF FOR TEXT APPLICATION: RECOMMENDER SYSTEM II</a></span><ul class=\"toc-item\"><li><span><a href=\"#Recommend-music-artists\" data-toc-modified-id=\"Recommend-music-artists-4.1\"><span class=\"toc-item-num\">4.1&nbsp;&nbsp;</span>Recommend music artists</a></span></li></ul></li><li><span><a href=\"#NMF-FOR-IMAGES\" data-toc-modified-id=\"NMF-FOR-IMAGES-5\"><span class=\"toc-item-num\">5&nbsp;&nbsp;</span>NMF FOR IMAGES</a></span></li></ul></div>"
   ]
  },
  {
   "cell_type": "code",
   "execution_count": 1,
   "metadata": {},
   "outputs": [],
   "source": [
    "import pandas as pd\n",
    "wiki = pd.read_csv('wiki.csv', header = None)\n",
    "documents = wiki.loc[:,1].tolist()\n",
    "from sklearn.feature_extraction.text import TfidfVectorizer\n",
    "tfidf = TfidfVectorizer()\n",
    "articles = tfidf.fit_transform(documents)\n",
    "titles = wiki.loc[:,1]"
   ]
  },
  {
   "cell_type": "markdown",
   "metadata": {},
   "source": [
    "## NMF"
   ]
  },
  {
   "cell_type": "code",
   "execution_count": 2,
   "metadata": {},
   "outputs": [],
   "source": [
    "# NMF fits to non-negative data only\n",
    "# NMF is dimension reduction but models are interpretable (unlike PCA)"
   ]
  },
  {
   "cell_type": "markdown",
   "metadata": {},
   "source": [
    "## NMF TO TEXT"
   ]
  },
  {
   "cell_type": "code",
   "execution_count": 3,
   "metadata": {},
   "outputs": [
    {
     "name": "stdout",
     "output_type": "stream",
     "text": [
      "[[0.00896226 0.00444493 0.00080136 0.         0.01885154 0.        ]\n",
      " [0.02120076 0.00785495 0.00226203 0.00776516 0.00344896 0.00139648]\n",
      " [0.00224524 0.00087757 0.00019088 0.         0.03104571 0.00138647]\n",
      " ...\n",
      " [0.03544825 0.00581755 0.00314057 0.         0.00401619 0.        ]\n",
      " [0.00965041 0.00558118 0.00197549 0.01241924 0.00577482 0.000828  ]\n",
      " [0.00431315 0.00265983 0.00152805 0.00245736 0.01947596 0.0019622 ]]\n"
     ]
    }
   ],
   "source": [
    "# Import NMF\n",
    "from sklearn.decomposition import NMF\n",
    "\n",
    "# Create an NMF instance: model\n",
    "model = NMF(n_components=6)\n",
    "\n",
    "# Fit the model to articles\n",
    "model.fit(articles)\n",
    "\n",
    "# Transform the articles: nmf_features\n",
    "nmf_features = model.transform(articles)\n",
    "\n",
    "# Print the NMF features\n",
    "print(nmf_features)"
   ]
  },
  {
   "cell_type": "code",
   "execution_count": 4,
   "metadata": {
    "scrolled": true
   },
   "outputs": [
    {
     "data": {
      "text/html": [
       "<div>\n",
       "<style scoped>\n",
       "    .dataframe tbody tr th:only-of-type {\n",
       "        vertical-align: middle;\n",
       "    }\n",
       "\n",
       "    .dataframe tbody tr th {\n",
       "        vertical-align: top;\n",
       "    }\n",
       "\n",
       "    .dataframe thead th {\n",
       "        text-align: right;\n",
       "    }\n",
       "</style>\n",
       "<table border=\"1\" class=\"dataframe\">\n",
       "  <thead>\n",
       "    <tr style=\"text-align: right;\">\n",
       "      <th></th>\n",
       "      <th>0</th>\n",
       "      <th>1</th>\n",
       "      <th>2</th>\n",
       "      <th>3</th>\n",
       "      <th>4</th>\n",
       "      <th>5</th>\n",
       "    </tr>\n",
       "    <tr>\n",
       "      <th>1</th>\n",
       "      <th></th>\n",
       "      <th></th>\n",
       "      <th></th>\n",
       "      <th></th>\n",
       "      <th></th>\n",
       "      <th></th>\n",
       "    </tr>\n",
       "  </thead>\n",
       "  <tbody>\n",
       "    <tr>\n",
       "      <th>Research Design and Standards Organization  The Research Design and Standards Organisation (RDSO) is an ISO 9001 research and development organisation under the Ministry of Railways of India, which functions as a technical adviser and consultant to the Railway Board, the Zonal Railways, the Railway Production Units, RITES and IRCON International in respect of design and standardisation of railway equipment and problems related to railway construction, operation and maintenance. History. To enforce standardisation and co-ordination between various railway systems in British India, the Indian Railway Conference Association (IRCA) was set up in 1903. It was followed by the establishment of the Central Standards Office (CSO) in 1930, for preparation of designs, standards and specifications. However, till independence in 1947, most of the designs and manufacture of railway equipments was entrusted to foreign consultants. After independence, a new organisation called Railway Testing and Research Centre (RTRC) was set up in 1952 at Lucknow, for undertaking intensive investigation of railway problems, providing basic criteria and new concepts for design purposes, for testing prototypes and generally assisting in finding solutions for specific problems. In 1957, the Central Standards Office (CSO) and the Railway Testing and Research Centre (RTRC) were integrated into a single unit named Research Designs and Standards Organisation (RDSO) under the Ministry of Railways with its headquarters at Manaknagar, Lucknow. The status of RDSO was changed from an \"Attached Office\" to a \"Zonal Railway\" on April 1, 2003, to give it greater flexibility and a boost to the research and development activities. Organisation. The RDSO is headed by a Director General who ranks with a General Manager of a Zonal Railway. The Director General is assisted by an Additional Director General and 23 Sr. Executive Directors and Executive Directors, who are in charge of the 27 directorates: Bridges and Structures, the Centre for Advanced Maintenance Techlogy (AMTECH), Carriage, Geotechnical Engineering, Testing, Track Design, Medical, EMU &amp; Power Supply, Engine Development, Finance &amp; Accounts, Telecommunication, Quality Assurance, Personnel, Works, Psycho-Technical, Research, Signal, Wagon Design, Electric Locomotive, Stores, Track Machines &amp; Monitoring, Traction Installation, Energy Management, Traffic, Metallurgical &amp; Chemical, Motive Power and Library &amp; Publications. All the directorates except Defence Research are located in Lucknow. Projects. Development of a new crashworthy design of  4500 HP WDG4 locomotive incorporating new  technology to improve dynamic braking and attain  significant fuel savings. Development of Drivers’ Vigilance Telemetric Control  System which directly measures and analyses variations  in biometric parameters to determine the state of alertness  of the driver. Development of Train Collision Avoidance System(TCAS). Development of Computer Aided Drivers Aptitude test  equipment for screening high speed train drivers for  Rajdhani/Shatabdi Express trains to evaluate their reaction  time, form perception, vigilance and speed anticipation. Assessment of residual fatigue life of critical railway  components like rail, rail weld, wheels, cylinder head, OHE  mast, catenary wire, contact wire, wagon components, low  components, etc. to formulate remedial actions. Modification of specification of Electric Lifting Barrier to improve its strength and reliability Design and development of modern fault tolerant, fail-safe, maintainer friendly Electronic Interlocking system Development of 4500 HP Hotel Load Locomotive to provide clean and noise free power supply to coaches from locomotive to eliminate the existing generator car of Garib Rath express trains. Field trials conducted for electric locomotive hauling Rajdhani/Shatabdi express trains with Head On Generation (HOG) system to provide clean and noise free power supply to end on coaches. Development of WiMAX technology to provide internet access to the passengers in running trains. Design and Development of Ballastless Track with indigenous fastening system (BLT-IFS). Major Achievements. Development of Pre-stressed concrete sleeper and allied components along with Source Development.</th>\n",
       "      <td>0.008962</td>\n",
       "      <td>0.004445</td>\n",
       "      <td>0.000801</td>\n",
       "      <td>0.000000</td>\n",
       "      <td>0.018852</td>\n",
       "      <td>0.000000</td>\n",
       "    </tr>\n",
       "    <tr>\n",
       "      <th>The Death of Bunny Munro  The Death of Bunny Munro is the second novel written by Nick Cave, best known as the lead singer of Nick Cave and the Bad Seeds. His first novel, \"And the Ass Saw the Angel\", was published in 1989. The novel deals with Bunny Munro, a middle aged lothario whose constant womanising and alcohol abuse comes to a head after the suicide of his wife. A travelling door to door beauty product salesman, he and his son go on an increasingly out of control road trip around Brighton, over which looms the shadow of a serial killer making his way towards Brighton, as well as Bunny's own mortality. The novel is set in Brighton in 2003, around the time the West Pier was destroyed by fire. Many of the locations and street names used in the book relate to real places close to Cave's own home. The novel was also released as an audiobook, using a 3D audio effect produced and sound directed by British artists Iain Forsyth and Jane Pollard, with a soundtrack by Nick Cave and Warren Ellis and in a number of Ebook formats including an Enhanced Editions iPhone application that synchronises the audiobook with the text, and includes exclusive videos of Nick reading. A series of live events took place in late 2009 to promote the book under the title of \"A Night with Nick Cave\", combining music, readings and a Q&amp;A session with the audience. Reception. Irvine Welsh, Neil Labute and David Peace have all touted the novel - providing back-cover reviews. Moreover, \"The Death of Bunny Munro\" has received strong reviews from the British media: Graeme Thomson (writing in The Observer, 6 September 2009) awarded the novel four stars. Likewise, the Saturday Times (on the 5th of September 2009) stated, in a very positive review, that the novel \"reads like a good indie movie\".  The novel was nominated for the Literary Review's Bad Sex in Fiction Award, but did not win.</th>\n",
       "      <td>0.021201</td>\n",
       "      <td>0.007855</td>\n",
       "      <td>0.002262</td>\n",
       "      <td>0.007765</td>\n",
       "      <td>0.003449</td>\n",
       "      <td>0.001396</td>\n",
       "    </tr>\n",
       "    <tr>\n",
       "      <th>Management of prostate cancer  Treatment for prostate cancer may involve active surveillance, surgery, radiation therapy including brachytherapy (prostate brachytherapy) and external beam radiation therapy, High-intensity focused ultrasound (HIFU), chemotherapy, cryosurgery, hormonal therapy, or some combination. Which option is best depends on the stage of the disease, the Gleason score, and the PSA level. Other important factors are the man's age, his general health, and his feelings about potential treatments and their possible side effects. Because all treatments can have significant side effects, such as erectile dysfunction and urinary incontinence, treatment discussions often focus on balancing the goals of therapy with the risks of lifestyle alterations. The selection of treatment options may be a complex decision involving many factors. For example, radical prostatectomy after primary radiation failure is a very technically challenging surgery and may not be an option. This may enter into the treatment decision. If the cancer has spread beyond the prostate, treatment options significantly change, so most doctors that treat prostate cancer use a variety of nomograms to predict the probability of spread. Treatment by watchful waiting/active surveillance, HIFU, external beam radiation therapy, brachytherapy, cryosurgery, and surgery are, in general, offered to men whose cancer remains within the prostate. Hormonal therapy and chemotherapy are often reserved for disease that has spread beyond the prostate. However, there are exceptions: Radiation therapy may be used for some advanced tumors, and hormonal therapy is used for some early stage tumors. Cryotherapy (the process of freezing the tumor), hormonal therapy, and chemotherapy may also be offered if initial treatment fails and the cancer progresses. Active surveillance. Active surveillance refers to observation and regular monitoring without invasive treatment. In the context of prostate disease this usually comprises regular PSA blood tests and prostate biopsies. Active surveillance is often used when an early stage, slow-growing prostate cancer is suspected. However, watchful waiting may also be suggested when the risks of surgery, radiation therapy, or hormonal therapy outweigh the possible benefits. Other treatments can be started if symptoms develop, or if there are signs that the cancer growth is accelerating (e.g., rapidly rising PSA, increase in Gleason score on repeat biopsy, etc.). Approximately one-third of men that choose active surveillance for early stage tumors eventually have signs of tumor progression, and they may need to begin treatment within three years. Men that choose active surveillance avoid the risks of surgery, radiation, and other treatments. The risk of disease progression and metastasis (spread of the cancer) may be increased, but this increase risk appears to be small if the program of surveillance is followed closely, generally including serial PSA assessments and repeat prostate biopsies every 1–2 years depending on the PSA trends. Study results in 2011 suggest active surveillance is the best choice for older 'low-risk' patients. For younger men, a trial of active surveillance may not mean avoiding treatment altogether, but may reasonably allow a delay of a few years or more, during which time the quality of life impact of active treatment can be avoided. Published data to date suggest that carefully selected men will not miss a window for cure with this approach. Additional health problems that develop with advancing age during the observation period can also make it harder to undergo surgery and radiation therapy. Hormonal therapy. Hormonal therapy uses medications or surgery to block prostate cancer cells from getting dihydrotestosterone (DHT), a hormone produced in the prostate and required for the growth and spread of most prostate cancer cells. Blocking DHT often causes prostate cancer to stop growing and even shrink. However, hormonal therapy rarely cures prostate cancer because cancers that initially respond to hormonal therapy typically become resistant after one to two years. Hormonal therapy is, therefore, usually used when cancer has spread from the prostate. It may also be given to certain men undergoing radiation therapy or surgery to help prevent return of their cancer. Hormonal therapy for prostate cancer targets the pathways the body uses to produce DHT. A feedback loop involving the testicles, the hypothalamus, and the pituitary, adrenal, and prostate glands controls the blood levels of DHT. First, low blood levels of DHT stimulate the hypothalamus to produce gonadotropin-releasing hormone (GnRH). GnRH then stimulates the pituitary gland to produce luteinizing hormone (LH), and LH stimulates the testicles to produce testosterone. Finally, testosterone from the testicles and dehydroepiandrosterone from the adrenal glands stimulate the prostate to produce more DHT. Hormonal therapy can decrease levels of DHT by interrupting this pathway at any point. There are several forms of hormonal therapy: The most successful hormonal treatments are orchiectomy and GnRH agonists. Despite their higher cost, GnRH agonists are often chosen over orchiectomy for cosmetic and emotional reasons. Eventually, total androgen blockade may prove to be better than orchiectomy or GnRH agonists used alone. Each treatment has disadvantages that limit its use in certain circumstances. Although orchiectomy is a low-risk surgery, the psychological impact of removing the testicles can be significant, and sterility is certain. The loss of testosterone can cause hot flashes, weight gain, loss of libido, enlargement of the breasts (gynecomastia), impotence, penile atrophy, and osteoporosis. GnRH agonists eventually cause the same side effects as orchiectomy but may cause worse symptoms at the beginning of treatment. When GnRH agonists are first used, testosterone surges can lead to increased bone pain from metastatic cancer, so antiandrogens or abarelix is often added to blunt these side effects. Estrogens are not commonly used because they increase the risk for cardiovascular disease and blood clots. In general, the antiandrogens do not cause impotence, and usually cause less loss of bone and muscle mass. Ketoconazole can cause liver damage with prolonged use, and aminoglutethimide can cause skin rashes. Surgery. Surgical removal of the prostate, or prostatectomy, is a common treatment either for early stage prostate cancer or for cancer that has failed to respond to radiation therapy. The most common type is radical retropubic prostatectomy, when the surgeon removes the prostate through an abdominal incision. Another type is radical perineal prostatectomy, when the surgeon removes the prostate through an incision in the perineum, the skin between the scrotum and anus. Radical prostatectomy can also be performed laparoscopically, through a series of small (1 cm) incisions in the abdomen, with or without the assistance of a surgical robot. Radical prostatectomy. Radical prostatectomy is effective for tumors that have not spread beyond the prostate; cure rates depend on risk factors such as PSA level and Gleason grade. However, it may cause nerve damage that may significantly alter the quality of life of the prostate cancer survivor. Radical prostatectomy has traditionally been used alone when the cancer is localized to the prostate. In the event of positive margins or locally advanced disease found on pathology, adjuvant radiation therapy may offer improved survival. Surgery may also be offered when a cancer is not responding to radiation therapy. However, because radiation therapy causes tissue changes, prostatectomy after radiation has higher risks of complications. Laparoscopic radical prostatectomy, LRP, is a new way to approach the prostate surgically with intent to cure. Contrasted with the open surgical form of prostate cancer surgery, laparoscopic radical prostatectomy requires a smaller incision. Relying on modern technology, such as miniaturization, fiber optics, and the like, laparoscopic radical prostatectomy is a minimally invasive prostate cancer treatment but is technically demanding and seldom done in the USA. Some believe that in the hands of an experienced surgeon, robotic-assisted laparoscopic prostatectomy (RALP) may reduce positive surgical margins when compared to radical retropubic prostatectomy (RRP) among patients with prostate cancer according to a retrospective study. The relative risk reduction was 57.7%. For patients at similar risk to those in this study (35.5% of patients had positive surgical margins following RRP), this leads to an absolute risk reduction of 20.5%. 4.9 patients must be treated for one to benefit (number needed to treat = 4.9). Other recent studies have shown RALP to result in a significantly higher rate of positive margins. Other studies showed no difference of robotic to open surgery. A recent French study comparing standard laparoscopic to robotic to open prostatectomy showed no difference in margin status or biochemical recurrence at 5 years. The relative merits of RALP and potential benefit versus open radical prostatectomy is currently an area of intense research and debate in urology. The only proven and accepted advantage to RALP is less intraoperative blood loss. Other suggested advantages beyond this lack definitive data and have not been widely accepted by the broader urological community. Transurethral resection of the prostate. Transurethral resection of the prostate, commonly called a \"TURP,\" is a surgical procedure performed when the tube from the bladder to the penis (urethra) is blocked by prostate enlargement. In general, TURP is for benign disease and is not meant as definitive treatment for prostate cancer. During a TURP, a small instrument (cystoscope) is placed into the penis and the blocking prostate is cut away. Orchiectomy. In metastatic disease, where cancer has spread beyond the prostate, removal of the testicles (called orchiectomy) may be done to decrease testosterone levels and control cancer growth. (See hormonal therapy, below). Cryosurgery. Cryosurgery is another method of treating prostate cancer in which the prostate gland is exposed to freezing temperatures. It is less invasive than radical prostatectomy, and general anesthesia is less commonly used. Under ultrasound guidance, a method invented by Dr. Gary Onik, metal rods are inserted through the skin of the perineum into the prostate. Highly purified argon gas is used to cool the rods, freezing the surrounding tissue at −186 °C (−302 °F). As the water within the prostate cells freezes, the cells die. The urethra is protected from freezing by a catheter filled with warm liquid. Impotence occurs up to ninety percent of the time. Brachytherapy. Brachytherapy for prostate cancer involves the surgical placement of radioactive 'seeds' or implants directly into the cancerous portions of the prostate, where the radiation kills the surrounding cancerous cells. It is therefore usually classified as a radiation treatment, rather than as a surgical treatment, because the actual treatment of the disease is by radiation, not surgery. See: Brachytherapy, below Complications of surgery. The most common serious complications of surgery are loss of urinary control and impotence. Reported rates of both complications vary widely depending on how they are assessed, by whom, and how long after surgery, as well as the setting (e.g., academic series vs. community-based or population-based data). Although penile sensation and the ability to achieve orgasm usually remain intact, erection and ejaculation are often impaired. Medications such as sildenafil (Viagra), tadalafil (Cialis), or vardenafil (Levitra) may restore some degree of potency. For most men with organ-confined disease, a more limited \"nerve-sparing\" technique may help reduce urinary incontinence and impotence. Postoperative urinary incontinence has been reported at 16% among patients at 12 months following radical prostatectomy. Although pelvic floor muscle training has been prescribed to improve urinary continence, the evidence for efficacy in men after radical prostatectomy has come into question recently. According to information from the Men After Prostate Surgery (MAPS) randomised control trial, pelvic floor muscle training was not shown to be therapeutic or cost effective in improving urinary continence. Of the patients in the intervention group, 148 of the 196 patients reported some form of incontinence at the 12-month mark. In the control group, 151 of the 195 patients reported some urinary incontinence (EER=.755, CER=.774, RRR=.0245, ARR=.019, NNT=Not Significant). According to an online news story article in AOL Healthy Living, posted from Chicago, Illinois on Tuesday, September 20, 2011, by news writer Carla K. Johnson: \"A new study addresses one of the most worrying questions faced by men with prostate cancer: What are my chances of losing sexual function after treatment? The answers vary greatly by age, sexual potency before treatment, PSA levels and whether a man has surgery, standard radiation or radioactive seeds, the study found. Using the findings, men can get a rough idea of their personal odds by answering questions that also include weight and race, experts said. Unsurprisingly, older men whose sexual function is already low have the worst chances of good sexual function after treatment. \"This will make it possible for patients to have a more realistic view of what to expect for themselves, rather than trying to guess where they fit in overall compared to the average guy with prostate cancer,\" said study co-author Dr. Martin Sanda of Beth Israel Deaconess Medical Center in Boston. The federally funded study, appearing in Wednesday's Journal of the American Medical Association, included only men with early-stage cancers, and it didn't address cure rates for different treatments. In the real world, some patients have limited treatment choices. For instance, only men with early-stage, slow-growing cancers can choose radioactive pellets. That means the findings may be most useful in giving a realistic picture of the sexual side effects of a treatment that's already chosen, rather than helping men pick a treatment. Researchers studied factors affecting potency in men and developed a questionnaire to help measure it. They evaluated its usefulness among 1,027 prostate cancer patients ages 38 to 84 and validated its accuracy in a separate group of more than 1,900 men. It correctly predicted the chances of post-treatment potency in 77 percent of the men who had surgery to 90 percent of the men who had radiation. The study found great variation in men's odds of having firm erections after treatment. For surgery, the prospects for maintaining top sexual function for a 50-year-old man could range from 21 percent to 70 percent, depending on his PSA level and whether a nerve-sparing technique was used. For standard radiation, the study found, the odds for a man keeping top sexual function ranged from 53 percent to 92 percent depending on PSA level and whether hormones were used along with radiation. The researchers couldn't find an age-related difference for standard radiation. For radiation pellets, a 60-year-old man's chances of keeping top sexual function ranged from 58 percent to 98 percent depending on race and body mass index. African-Americans and trimmer men had better chances. The study has some deficiencies, experts said. It didn't include men who chose what's called \"active surveillance\", where a doctor keeps track of a tumor through regular tests and treats it only if the cancer markedly worsens. Many prostate cancer patients with slow-growing tumors can live their whole lives without symptoms or treatment, said Dr. Durado Brooks, prostate cancer director for the American Cancer Society. They die of something else before the cancer kills them. \"There are a lot of prostate cancers that are not likely to benefit from treatment,\" Brooks said. Including an active surveillance group would have shown how much sexual function changes because of factors other than treatment, such as age and general health, he said. Most patients treated for early-stage prostate cancer survive, so the common side effects of treatment – incontinence and sexual problems – have become more important for patients making choices.\" Radiation therapy. Overview. Radiation therapy, also known as radiotherapy, is often used to treat all stages of prostate cancer. It is also often used after surgery if the surgery was not successful at curing the cancer. Radiotherapy uses ionizing radiation to kill prostate cancer cells. When absorbed in tissue, Ionizing radiation such as gamma and x-rays damage the DNA in cancer cells, which increases the probability of apoptosis (cell death). Normal cells are able to repair radiation damage, while cancer cells are not. Radiation therapy exploits this fact to treat cancer. Two different kinds of radiation therapy are used in prostate cancer treatment: external beam radiation therapy and brachytherapy (specifically prostate brachytherapy). External beam radiation therapy. External beam radiation therapy uses a linear accelerator to produce high-energy x-rays that are directed in a beam towards the prostate. A technique called Intensity Modulated Radiation Therapy (IMRT) may be used to adjust the radiation beam to conform with the shape of the tumor, allowing higher doses to be given to the prostate and seminal vesicles with less damage to the bladder and rectum. External beam radiation therapy is generally given over several weeks, with daily visits to a radiation therapy center. New types of radiation therapy such as IMRT have fewer side effects than traditional treatment. Eleven centers in the United States are now using proton therapy for prostate cancer, which uses protons rather than X-rays to kill the cancer cells. Researchers are also studying types of stereotactic body radiotherapy (SBRT) to treat prostate cancer. Brachytherapy. Permanent implant brachytherapy is a popular treatment choice for patients with low to intermediate risk features, can be performed on an outpatient basis, and is associated with good 10-year outcomes with relatively low morbidity It involves the placement of about 100 small \"seeds\" containing radioactive material (such as iodine-125 or palladium-103) with a needle through the skin of the perineum directly into the tumor while under spinal or general anesthetic. These seeds emit lower-energy X-rays which are only able to travel a short distance. Although the seeds eventually become inert, they remain in the prostate permanently. The risk of exposure to others from men with implanted seeds is generally accepted to be insignificant. However, men are encouraged to talk to their doctors about any special temporary precautions around small children and pregnant women. Uses. Radiation therapy is commonly used in prostate cancer treatment. It may be used instead of surgery or after surgery in early stage prostate cancer (adjuvant radiotherapy). Radiation treatments also can be combined with hormonal therapy for intermediate risk disease, when surgery or radiation therapy alone is less likely to cure the cancer. Some radiation oncologists combine external beam radiation and brachytherapy for intermediate to high-risk situations. Radiation therapy is often used in conjunction with hormone therapy for high-risk patients. Others use a \"triple modality\" combination of external beam radiation therapy, brachytherapy, and hormonal therapy. In advanced stages of prostate cancer, radiation is used to treat painful bone metastases or reduce spinal cord compression. Radiation therapy is also used after radical prostatectomy either for cancer recurrence or if multiple risk factors are found during surgery. Radiation therapy delivered immediately after surgery when risk factors are present (positive surgical margin, extracapsular extension, seminal vessicle involvement) has been demonstrated to reduce cancer recurrence, decrease distant metastasis, and increase overall survival in two separate randomized trials. Side effects. Side effects of radiation therapy might occur after a few weeks into treatment. Both types of radiation therapy may cause diarrhea and mild rectal bleeding due to radiation proctitis, as well as potential urinary incontinence and impotence. Symptoms tend to improve over time except erections which typically worsen as time progresses. A new method to reduce rectal radiation injury in prostate cancer patients involves the use of an absorbable spacer placed between the prostate and rectum. Such spacers are commercially available in some regions, and are undergoing clinical trials in others. By temporarily altering the anatomy these products have the potential to allow for improved cancer targeting while minimizing risk to neighboring healthy tissues. Prostate Rectum Spacers should be compatible with all prostate cancer radiotherapy treatments including 3D conformal, IMRT and stereotactic radiation and brachytherapy. Comparison to surgery. Multiple retrospective analyses have demonstrated that overall survival and disease-free survival outcomes are similar between radical prostatectomy, external beam radiation therapy, and brachytherapy. Rates for impotence when comparing radiation to nerve-sparing surgery are similar. Radiation has lower rates of incontinence compared with surgery, but has higher rates of occasional mild rectal bleeding. Men who have undergone external beam radiation therapy may have a slightly higher risk of later developing colon cancer and bladder cancer. High intensity focused ultrasound (HIFU). HIFU was first used in the 1940s and 1950s in efforts to destroy tumors in the central nervous system. Since then, HIFU has been shown to be effective at destroying malignant tissue in the brain, prostate, spleen, liver, kidney, breast, and bone. HIFU for prostate cancer utilizes high-intensity focused ultrasound to ablate/destroy the tissue of the prostate. During the HIFU procedure, sound waves are used to heat the prostate tissue, thus destroying the cancerous cells. In essence, ultrasonic waves are precisely focused on specific areas of the prostate to eliminate the prostate cancer, with minimal risks of affecting other tissue or organs. Temperatures at the focal point of the sound waves can exceed 100 °C (212 °F). The ability to focus the ultrasonic waves leads to a relatively low occurrence of both incontinence and impotence. (0.6% and 0-20%, respectively) According to preliminary international studies, HIFU has a high success rate with a reduced risk of side effects. Studies using HIFU machine have shown that 94% of patients with a pretreatment PSA (Prostate Specific Antigen) of less than 10 ng/mL were cancer-free after three years. However, many studies of HIFU to 2005 were performed by manufacturers of HIFU devices, or members of manufacturers' advisory panels. Today 2000?, the HIFU procedure for prostate cancer is performed using a transrectal probe. This procedure has been performed for over ten years and is currently approved for use in Japan, Europe, Canada, and parts of Central and South America. HIFU is currently not approved for medical use in the United States. Current NCCN guidelines for the treatment of prostate cancer do not include HIFU as part of standard of care, though many promising clinical trials exist. Many patients have received the HIFU procedure at facilities in Canada, and Central, and South America. Contraindications to HIFU for prostate cancer include a prostate volume larger than 40 grams, which can prevent targeted HIFU waves from reaching the anterior and anterobasal regions of the prostate, anatomic or pathologic conditions that may interfere with the introduction or displacement of the HIFU probe into the rectum, and high-volume calcification within the prostate, which can lead to HIFU scattering and transmission impairment. A 2012 UK trial of focal HIFU on 41 patients reported no histological evidence of cancer in 77% of men treated (95% confidence interval: 61 - 89%) at 12 month targeted biopsy, and a low rate of genitourinary side effects. However, this does not necessarily mean that 77% of men were definitively cured of prostate cancer, since systematic and random sampling errors are present in the biopsy process, and therefore recurrent or previously undetected cancer can be missed. In addition, the study size was small; the number of patients was chosen in order to assess side effects. However, a larger trial is currently recruiting patients (NCT01194648), the results of which will hopefully shed more light on the level of cancer control achievable using this technique. Palliative care. Palliative care for advanced stage prostate cancer focuses on extending life and relieving the symptoms of metastatic disease. As noted above, Abiraterone Acetate is showing some promise in treating advance-stage prostate cancer. It causes a dramatic reduction in PSA levels and Tumor sizes in aggressive advanced-stage prostate cancer for 70% of patients. Chemotherapy may be offered to slow disease progression and postpone symptoms. The most commonly used regimen combines the chemotherapeutic drug docetaxel with a corticosteroid such as prednisone. One study showed that treatment with docetaxel with prednisone prolonged life from 16.5 months for those taking mitoxantrone and prednisone to 18.9 months for those taking docetaxel + prednisone. Bisphosphonates such as zoledronic acid have been shown to delay skeletal complications such as fractures or the need for radiation therapy in patients with hormone-refractory metastatic prostate cancer. Alpharadin is a new alpha emitting pharmaceutical targeting bone metastasis. The phase II testing shows prolonged patient survival times, reduced pain, and improved quality of life. Bone pain due to metastatic disease is treated with opioid pain relievers such as morphine and oxycodone. External beam radiation therapy directed at bone metastases may provide pain relief. Injections of certain radioisotopes, such as strontium-89, phosphorus-32, or samarium-153, also target bone metastases and may help relieve pain. Alternative therapies. As an alternative to active surveillance or definitive treatments, other therapies are also under investigation for the management of prostate cancer. PSA has been shown to be lowered in men with apparent localized prostate cancer using a vegan diet (fish allowed), regular exercise, and stress reduction. These results have so far proven durable after two-years' treatment. However, this study did not compare the vegan diet to either active surveillance or definitive treatment, and thus cannot comment on the comparative efficacy of the vegan diet in treating prostate cancer. Many other single agents have been shown to reduce PSA, slow PSA doubling times, or have similar effects on secondary markers in men with localized cancer in short term trials, such as pomegranate juice or genistein, an isoflavone found in various legumes. The potential of using multiple such agents in concert, let alone combining them with lifestyle changes, has not yet been studied. A more thorough review of natural approaches to prostate cancer has been published. Neutrons have been shown to be superior to X-rays in a the treatment of prostatic cancer. The rationale is that tumours containing hypoxic cells (cells with enough oxygen concentration to be viable, yet not enough to be X-ray-radiosensitive) and cells deficient in oxygen are resistant to killing by X-rays. Thus, the lower Oxygen Enhancement Ratio (OER) of neutrons confers an advantage. Also, neutrons have a higher relative biological effectiveness (RBE) for slow-growing tumours than X-rays, allowing for an advantage in tumour cell killing. Prevention. Neither selenium nor vitamin E have been found to be effective in preventing prostate cancer. Exercise, genetics, and prostate cancer progression rates. In a Wednesday, February 1, 2012 online press release by Jason Bardi from the University of California at San Francisco (UCSF) Newsroom, it was stated that,: \"Scientists at the University of California, San Francisco (UCSF) have identified nearly 200 genes in the healthy prostate tissue of men with low-grade prostate cancer that may help explain how physical activity improves survival from the disease. The study compared the activity of some 20,000 genes in healthy prostate tissue biopsied from several dozen patients. The finding builds on two studies last year by UCSF and Harvard. Research has indicated that frequent exercise such as brisk walking can delay the progress of prostate cancer</th>\n",
       "      <td>0.002245</td>\n",
       "      <td>0.000878</td>\n",
       "      <td>0.000191</td>\n",
       "      <td>0.000000</td>\n",
       "      <td>0.031046</td>\n",
       "      <td>0.001386</td>\n",
       "    </tr>\n",
       "    <tr>\n",
       "      <th>Cheetah reintroduction in India  Reintroduction of the cheetah in India involves the artificial re-establishment of a population of cheetahs into areas where they had previously existed but were hunted into extinction by the British colonial officers and Indian royalty. A part of the reintroduction process is the identification and restoration of their former grassland scrub forest habitats. This is within the scope of the duties of the local forest department of each State, where relocation occurs, through the use of Indian Central Government funding. Background. History. Until the 20th century, the Asiatic cheetah was quite common and roamed all the way from Arabia to Iran, Afghanistan and India. In India, they ranged as far south as the Tirunelveli district of Tamil Nadu. The Asiatic cheetah, also known as the \"hunting leopard\" in India was kept by kings and princes to hunt gazelle; the Moghul emperor Akbar kept them for hunting gazelle and blackbucks. He was said to have had 1,000 cheetahs at one time for assisting in his royal hunts. Trapping of large numbers of adult Indian cheetahs, who had already learned hunting skills from wild mothers, for assisting in royal hunts is said to be another major cause of the species rapid decline in India as they never bred in captivity with only one record of a litter ever. Extinction. By the beginning of the twentieth century, the species was already heading for extinction in many areas. The last physical evidence of the Asiatic cheetah in India was three shot by the Maharajah of Surguja in 1947 in eastern Madhya Pradesh, a man also noted for holding a record for shooting 1,360 tigers. In India in the mid-20th century, prey was abundant, and cheetahs fed on the blackbuck, the chinkara, and sometimes the chital and the nilgai. With the death of the last remaining population of the Asiatic cheetah in India, the species was declared extinct in India; it is the only animal in recorded history to become extinct from India due to unnatural causes. A consequence of the extinction of the cheetahs and subsequently the Indian royalty that prized them was that their grasslands homes came to be controlled, used and managed by local people. \"The grasslands faded and diminished under the hooves of a thousand cattle, they were tilled and ploughed until only a few scattered remnants were preserved in the form of wildlife sanctuaries\". Reintroduction efforts. Cloning. During the early 2000s, Indian scientists from the Centre for Cellular and Molecular Biology (CCMB), Hyderabad, proposed a plan to clone Asiatic Cheetahs obtained from Iran. India requested Iran to transport one live pair to India. If not possible, Indian scientists requested Iran to allow them to collect some live cells of the Cheetah pair in Iran itself, which can then be made into living cell lines. However, Iran refused saying that it would neither send any cheetahs to India nor would they allow Indian scientists to collect their tissue samples. It is said that Iran wanted an Asiatic lion in exchange for a cheetah and that India was not willing to export any of its Asiatic lions. But, the Indian government has again contacted Iran to explore the possibility of Iran supplying cheetahs to help to re-establish their presence on the subcontinent decades after they were hunted to extinction. The Iranian embassy in Delhi said its government was in the process of \"arranging\" talks. Possible reintroduction sites. Currently, wildlife experts have shortlisted three regions which have the potential to support cheetah populations. The Nauradehi Wildlife Sanctuary and Kuno-Palpur Wildlife Sanctuaries in Madhya Pradesh and the Shahgarh bulge landscape in Jaisalmer, Rajasthan have been declared potentially suitable for the reintroduction of the cheetah. The Kuno-Palpur Wildlife Sanctuary in Madhya Pradesh has the potential to hold populations of all four of India's big cats; the tiger, the leopard, the Asiatic lion and the cheetah, all four of which have co-existed in the same habitats historically, before they were wiped out due to overhunting and habitat destruction. Since the Shahgarh Landscape is fenced along the Indo-Pakistani border region, the addition of more fencing will ensure adequate protection for the cheetah population. The Nauradehi Wildlife Sanctuary (1197km2) is part of a much larger forested landscape (5500km2 ) which can host the cheetah as well. At a future date, when sufficient population has built up, other former range habitats in India (after revitalizing them) may also be considered for reintroduction like the Banni grasslands and Desert National Park etc. A few wildlife groups have suggested the Moyar river valley in Tamil Nadu's Satyamangalam FD, part of Nilgiri Biosphere Reserve as it is a pristine forest with flourishing population of prey and a good record of conservation. Frederick Augustus Nicholson, the then British Collector has reported to have shot a few individuals near Kothamangalam, Velamundi and Bolampatti (all in NBR). This region is on the leeward side of SW monsoon. Genetic sub-species level differentiation. Asiatic cheetah \"(Acinonyx jubatus venaticus)\" has, for a long time, been \"theoretically\" classified as a sub-species of the cheetah with the suffix \"\"venaticus\"\" applied at the end of its scientific binomial name \"Acinonyx jubatus\". However, at a Cheetah reintroduction workshop organised in India on 9 September 2009, Stephen J. O'Brien from Laboratory of Genomic Diversity of National Cancer Institute, USA who has in the past conducted numerous prestigious genetic studies - including those on Asiatic lions - said that according to the latest modern genetic studies, it was discovered that the Asiatic cheetah was, in fact, genetically identical to the African Cheetah with which it had separated only about 5000 years ago. This was not enough time for a sub-species level differentiation; O'Brien said that in comparison the Asian and African lion subspecies were separated some 100,000 years ago, as was the African and Asian leopard subspecies 169,000 years ago. Cheetah expert Laurie Marker of the Cheetah Conservation Fund (CCF) and other wildlife experts advised the Indian Government that for reintroduction purposes India should source the Cheetah from Africa where they were much more numerous instead of trying to have some removed from the critically endangered low population of about 70 to 100 or so Asiatic Cheetahs left in Iran. India's Union Minister of State for Environment and Forests Jairam Ramesh, chief wildlife wardens of Rajasthan, Gujarat, Madhya Pradesh and Chhattisgarh, officials of the environment ministry, cheetah experts from across the globe including Laurie Marker from Cheetah Conservation Fund (CCF), representatives from the Wildlife Institute of India (WII) including Yadvendradev Jhala, and IUCN, an international conservation NGO, among others, participated in a meeting about this issue. The conference was organised by Wildlife Trust of India (WTI) Subsequently, in 2011, a much more detailed five year genetic study involving gathering of DNA samples from the wild, zoos and museums in eight countries was published in \"Molecular Ecology (Journal)\" on 8 January 2011. This newer study concluded that African and Asiatic cheetahs were in reality genetically very distinct and had in fact separated 32,000 to 67,000 years ago. Sub-species level differentiation had taken place due to longer separation from the African population. The effect of this latest revelation on India's plan to reintroduce cheetahs to the country is yet unknown. Introduction of African cheetah. As the world's last Asiatic cheetah population in Iran is currently classified as critically endangered, with an estimated total of below 100, the cheetah experts felt that it would not be conducive to disturb it. India is therefore exploring an alternate plan of importing the African Cheetah (\"Acinonyx jubatus\") from some African countries where they are in greater abundance, with a view to breeding them in captivity and then setting them free in protected, semi-arid habitats in India. Since the Asiatic Cheetah went extinct in India about half a century ago, suggestions to reestablish the cheetah in India have been ongoing but this is the first time that a major conservation NGO like Wildlife Trust of India (WTI) has taken it on them and are currently spearheading the Cheetah reintroduction plan in India in collaboration with Wildlife Institute of India (WII). For this purpose a meeting of International cheetah experts was organized in Gajner, near Bikaner in the Indian state of Rajasthan during September 2009. As per the discussions held at the meeting cheetah experts from around the world favored importing African cheetahs from Africa for the proposed reintroduction in India as against getting them from the world's last remnant population of Asiatic Cheetah, also called Iranian cheetah, that only survive in Iran which are currently critically endangered with their entire population estimated to be below 100. International experts including Laurie Marker of Cheetah Conservation Fund (CCF), credited with developing cheetah conservation programmes in a number of countries, including Iran, argues that the world's last Asiatic cheetah population in Iran is abysmally low to spare any individuals for reintroduction efforts in India. Stephen J O'Brien, world's leading conservation geneticist and Chief of the Laboratory of Genomic Diversity at the National Cancer Institute (NCI), USA, has clarified that there is no significant genetic difference between the African and the Iran's Asiatic cheetah, as per genetic research carried out by him African and Indian cheetahs were only separated just some 5,000 years ago which is not enough for a sub-species level differentiation. \"African and Asian cheetahs are similar in nature and have same genetic make-up. So India can have the animal from South Africa if it is not getting from Iran (which has already refused to part with its Asian cheetah),\" noted the cheetah genetic expert Stephen J O Brien. At the meeting experts also identified South Africa, Botswana, Kenya, Tanzania and UAE as countries from where the cheetah could be imported for India. \"About 5 to 10 animals annually have to be brought to India over a period of 5 to 10 years,\" recommended another working group, which was formed for exploring sourcing and translocation of the cheetah. The Ministry of Environment &amp; Forests, Government of India has approved the recommendation for a detailed survey of potential reintroduction sites in the four Indian states of Rajasthan, Gujarat, Madhya Pradesh and Chattisgarh, shortlisted during the consultative meeting. Three more Indian states Karnataka, Andhra Pradesh and Maharashtra are being also considered. This survey will form the basis for the roadmap of reintroduction of cheetah in India, and will be carried out by the Wildlife Institute of India (WII), in collaboration with the Wildlife Trust of India (WTI), the Bombay Natural History Society (BNHS) and the concerned state governments with their respective forest departments. Current status. The Ministry of forests and environment of India is now hammering out the details of the cheetah conservation plan. As a first step, a two-day seminar of technical experts on cheetahs was held in Gajner from 9 September 2009. Experts on cheetah, including Divyabhanusinh and M K Ranjitsinh presented their papers on how to go about bringing cheetahs to India. The initial plans were to bring the cheetahs to Gajner Wildlife Sanctuary. \"We want to set up a breeding ground for the cheetahs and Gajner seems to fit the bill perfectly. Thereafter, they will be transported to various states,\" he added. India is also in talks with the Islamic Republic of Iran over the possibility of sending a pair of Asiatic cheetahs to India. It is said that Iran wanted an Asiatic lion in exchange for a cheetah and that India wasn't ready to export any of its Asiatic lions. The Iranian embassy in Delhi said that its government was in the process of \"arranging\" talks. The Union Minister of State for Environment and Forests Jairam Ramesh said that African cheetahs could be brought to India within three years having just returned from a trip to South Africa, one of the potential source-habitats of cheetahs to be moved to India. The Wildlife Institute of India is spearheading the project, and will unveil a road map and destination for the African cheetahs — possible options are in Rajasthan, Madhya Pradesh and Gujarat — by the end of May. Kuno Palpur and Nauradehi Sancturies in Madhya Pradesh and Shahgarh landscape in Jaisalmer in Rajasthan have been selected in by the Wildlife Institute of India as most suitable sites for the reintroduction project. Plans on hold. As of May 2012 the Indian Supreme Court has put the project of importing Cheetahs from Africa and reintroducing them in India on hold. Some Conservationists have been fighting a legal battle in Indian Supreme Court to get the Indian State Government of Gujarat to break its monopolizing of wild Asiatic Lions and release a few overpopulated prides of Asiatic lions spilling out of Gir National Park for reintroduction in the Kuno Wildlife Sanctuary in the neighbouring Indian State of Madhya Pradesh which was prepared for them after relocating over 24 villages out of the forest. In the past, for last two decades the State Government of Gujarat had concocted every possible reason to maintain its monopoly on wild Asiatic Lions and the tourism revenue generated by them and of recent Gujarat's legal council had put forward the argument that Kuno Wildlife Sanctuary is being used for the introduction of African Cheetah which might take several years to fully settle down and repopulate the area and hence reintroduction of Asiatic Lions should only be done after that, this scared the conservationists that Gujarat will use this pretext to delay the reintroduction of native Asiatic Lions by many more decades using the Cheetah argument. Indian Supreme court has taken note of the arguments put forth by some Indian conservationists that importing African Cheetah for reintroduction in India is misguided as it is against IUCN reintroduction guidelines and no clearance had been sought from India's National Board for Wildlife. The Indian Supreme Court has put the project on hold till further notice asking for clearance from India's National Board for Wildlife, meantime it has fast tracked the case for the re-introduction of Asiatic Lions to Kuno Wildlife Sanctuary and is hearing it every Monday. Senior advocate PS Narasimha, court-appointed adviser and the amicus curiae in the Asiatic lion relocation case in India's Supreme Court, filed an application seeking a stay on the implementation of African cheetah reintroduction project in India. The Indian Supreme court granted the stay and the matter has been scheduled for further hearing in July 2012 after the court returns from vacation. During its hearings, the Bench was informed that India's Ministry of Environment and Forests (MoEF) has decided to introduce the African cheetah from Namibia into Kuno Wildlife Sanctuary in the Indian state of Madhya Pradesh, the same proposed habitat being developed as the second home for the translocation of Asiatic Lions from Gir Wildlife Sanctuary in the neighbouring Indian state of Gujarat which did not want to shift any Asiatic Lions out of the state. Narasimha said the proposal for reintroduction of African Cheetah \"has not been either placed before the Standing Committee of India's National Board for Wildlife, nor has there been a considered decision taken in this regard\". He stated in an application that \"scientific studies show that the African Cheetahs and Asian Cheetahs are completely different, both genetically and also in their characteristics\" and the reintroduction of African Cheetah in India was also against the International Union for the Conservation of Nature (IUCN) guidelines on translocation of wildlife species. \"In fact, the (IUCN) guidelines categorically warn against the introduction of alien or exotic species. The African Cheetah obviously never existed in India. Therefore, it is not case of intentional movement of an organism into a part of its native range,\" the application stated. Asiatic Cheetah became extinct in India in the 1950s, In the past, India's last recorded cheetah in the wild was said to have been shot in the Rewa area of Madhya Pradesh in the late 1940s. It was mentioned that the introduction of alien or exotic species is universally shunned by wildlife experts and \"in fact countries such as South Africa, Australia are spending huge amount of funds to eradicate and remove exotic wildlife species from wilderness areas or wild habitats\". Narasimha also sought a direction of India's Ministry of Environment and Forests (MoEF) to produce before the apex court all relevant records and decisions relating to introduction of cheetah. He said the Indian Cheetah in genetic composition is a different animal than the African Cheetah and a different sub species altogether and \"therefore one cannot be introduced in place of the other\". Conservationists say fewer than 100 of the critically endangered Asiatic Cheetah subspecies remain only in Iran, roaming the central deserts. The vast majority of the 10,000 cheetahs left in the world are in Africa.</th>\n",
       "      <td>0.018912</td>\n",
       "      <td>0.003367</td>\n",
       "      <td>0.000969</td>\n",
       "      <td>0.000000</td>\n",
       "      <td>0.013293</td>\n",
       "      <td>0.000000</td>\n",
       "    </tr>\n",
       "    <tr>\n",
       "      <th>Langtang National Park  The Langtang National Park is the fourth national park in Nepal and was established in 1976 as the first Himalayan national park. The protected area exceeds an altitudinal range of and covers an area of in the Nuwakot, Rasuwa and Sindhulpalchok districts of the central Himalayan region encompassing 26 Village Development Committees. It is linked with the Qomolangma National Nature Preserve in Tibet. The high altitude sacred lake of Gosainkunda falls within the park. The Gosainkunda lake ()and the Dorje Lakpa range () bisect the park from east–west to south–east. The summit of Langtang Lirung () is the highest point in the park. The northern and eastern border of the national park coincide with the international border to Tibet. The western boundary follows the rivers Bhote Kosi and Trisuli. The southern border lies north of the Kathmandu Valley. It is part of the Sacred Himalayan Landscape. Entrance fee is 1000 Nepali Rupees. History. In 1970, royal approval designated the establishment of Langtang National Park as the first protected area in the Himalayas. The national park was gazetted in 1976 and extended by a buffer zone of in 1998. Under the \"Buffer Zone Management Guidelines\" the conservation of forests, wildlife and cultural resources received top priority, followed by conservation of other natural resources and development of alternative energy. Climate. The climate of the park is dominated by the southwest summer monsoon. Temperatures vary greatly due to the extreme difference in altitude in the entire area. Most of the annual precipitation occurs from June to September. From October to November and from April to May, days are warm and sunny, and nights cool. In spring, rain at elevation often turns to snow at higher elevations. In winter from December to March, days are clear and mild but nights near freezing. Vegetation. The Langtang National Park exhibits a high diversity of 14 vegetation types in 18 ecosystem types, ranging from upper tropical forests below m altitude to alpine scrub and perennial ice. Tourism. There have been several cases of assault on the trail. An American is missing and has been presumed dead. In 2012, a Belgian women was killed with investigation regarding the cause of death still ongoing.</th>\n",
       "      <td>0.026065</td>\n",
       "      <td>0.000396</td>\n",
       "      <td>0.000950</td>\n",
       "      <td>0.000000</td>\n",
       "      <td>0.007385</td>\n",
       "      <td>0.002211</td>\n",
       "    </tr>\n",
       "  </tbody>\n",
       "</table>\n",
       "</div>"
      ],
      "text/plain": [
       "                                                           0         1  \\\n",
       "1                                                                        \n",
       " Research Design and Standards Organization  Th...  0.008962  0.004445   \n",
       " The Death of Bunny Munro  The Death of Bunny M...  0.021201  0.007855   \n",
       " Management of prostate cancer  Treatment for p...  0.002245  0.000878   \n",
       " Cheetah reintroduction in India  Reintroductio...  0.018912  0.003367   \n",
       " Langtang National Park  The Langtang National ...  0.026065  0.000396   \n",
       "\n",
       "                                                           2         3  \\\n",
       "1                                                                        \n",
       " Research Design and Standards Organization  Th...  0.000801  0.000000   \n",
       " The Death of Bunny Munro  The Death of Bunny M...  0.002262  0.007765   \n",
       " Management of prostate cancer  Treatment for p...  0.000191  0.000000   \n",
       " Cheetah reintroduction in India  Reintroductio...  0.000969  0.000000   \n",
       " Langtang National Park  The Langtang National ...  0.000950  0.000000   \n",
       "\n",
       "                                                           4         5  \n",
       "1                                                                       \n",
       " Research Design and Standards Organization  Th...  0.018852  0.000000  \n",
       " The Death of Bunny Munro  The Death of Bunny M...  0.003449  0.001396  \n",
       " Management of prostate cancer  Treatment for p...  0.031046  0.001386  \n",
       " Cheetah reintroduction in India  Reintroductio...  0.013293  0.000000  \n",
       " Langtang National Park  The Langtang National ...  0.007385  0.002211  "
      ]
     },
     "execution_count": 4,
     "metadata": {},
     "output_type": "execute_result"
    }
   ],
   "source": [
    "# Import pandas\n",
    "import pandas as pd\n",
    "\n",
    "# Create a pandas DataFrame: df\n",
    "df = pd.DataFrame(nmf_features, index=titles)\n",
    "df.head()"
   ]
  },
  {
   "cell_type": "code",
   "execution_count": 5,
   "metadata": {},
   "outputs": [
    {
     "data": {
      "text/plain": [
       "0    0.001315\n",
       "1    0.000000\n",
       "2    0.024408\n",
       "3    0.000000\n",
       "4    0.002372\n",
       "5    0.005407\n",
       "Name:  Lady Apache  Sandra González Calderón (born June 26, 1970) is a Mexican professional wrestler or \"Luchadora\", best known under the ring name Lady Apache. González's ring name comes from the \"family name\" of Mario Balbuena González who wrestles under the name Gran Apache; whom she was married to when she made her wrestling debut in 1986 but later divorced. Through her marriage to Gran Apache she was the step mother of Faby Apache and Mari Apache, both professional wrestlers. González' second husband was Jesus Alvarado Nieves, better known as \"Brazo de Oro\", a professional wrestler, current head of the wrestlers union and CMLL booker. Her third and current husband is Edgar Luna Pozos, AAA's Electroshock, she is also the sister-in-law to Charly Manson (Jesus Luna Pozos). As Lady Apache, González has mainly worked for Consejo Mundial de Lucha Libre (CMLL) and Asistencia Asesoría y Administración (AAA), Mexico's two largest professional wrestling promotions during her career, switching back and forth several times. González is a three time CMLL World Women's Champion, a two time Mexican National Women's Champion, two time \"AAA Reina de Reinas\" (Spanish for \"Queen of Queens\") and one half of the AAA World Mixed Tag Team Championship with husband Electroshock. On August 20, 2010 it was announced that Lady Apache was pregnant and for that reason had to stop wrestling for at least seven months. She made her return to the wrestling ring at a CMLL event on July 31, 2011. , dtype: float64"
      ]
     },
     "execution_count": 5,
     "metadata": {},
     "output_type": "execute_result"
    }
   ],
   "source": [
    "# Print row 7\n",
    "df.iloc[7,:]"
   ]
  },
  {
   "cell_type": "markdown",
   "metadata": {},
   "source": [
    "=> NMF features 2 has highest value => may represent topic"
   ]
  },
  {
   "cell_type": "code",
   "execution_count": 6,
   "metadata": {},
   "outputs": [
    {
     "name": "stdout",
     "output_type": "stream",
     "text": [
      "(6, 2107645)\n"
     ]
    }
   ],
   "source": [
    "# Get the columns to tf-idf: words\n",
    "words = tfidf.get_feature_names()\n",
    "\n",
    "# Create a DataFrame: components_df\n",
    "components_df = pd.DataFrame(model.components_, columns=words)\n",
    "\n",
    "# Print the shape of the DataFrame\n",
    "print(components_df.shape)"
   ]
  },
  {
   "cell_type": "markdown",
   "metadata": {},
   "source": [
    "=> there are 6 components just like PCA"
   ]
  },
  {
   "cell_type": "code",
   "execution_count": 7,
   "metadata": {},
   "outputs": [
    {
     "name": "stdout",
     "output_type": "stream",
     "text": [
      "album       3.094843\n",
      "the         3.014494\n",
      "band        1.682855\n",
      "song        1.464037\n",
      "released    1.219070\n",
      "Name: 3, dtype: float64\n"
     ]
    }
   ],
   "source": [
    "# Select row 3: component\n",
    "component = components_df.iloc[3]\n",
    "\n",
    "# Print result of nlargest\n",
    "print(component.nlargest())"
   ]
  },
  {
   "cell_type": "markdown",
   "metadata": {},
   "source": [
    "=> component 3 may relate to music topic"
   ]
  },
  {
   "cell_type": "code",
   "execution_count": 8,
   "metadata": {},
   "outputs": [],
   "source": [
    "# for documents:\n",
    "    # NMF components represent topics\n",
    "    # NMF features combine topics into documents"
   ]
  },
  {
   "cell_type": "markdown",
   "metadata": {},
   "source": [
    "- => from the initial tf-idf: articles with shape 463819 (documents) x 2107645 (terms), NMF reduce dimension to 463819 x 6 (features), the components with shape 6 x 2107645 is the same with the component - the axes in PCA\n",
    "- => tf-idf = Multiply components by feature values, and add up"
   ]
  },
  {
   "cell_type": "markdown",
   "metadata": {},
   "source": [
    "## NMF FOR TEXT APPLICATION: RECOMMENDER SYSTEM I"
   ]
  },
  {
   "cell_type": "markdown",
   "metadata": {},
   "source": [
    "### Recommend the articles that relate to the current articles"
   ]
  },
  {
   "cell_type": "code",
   "execution_count": 9,
   "metadata": {},
   "outputs": [],
   "source": [
    "# Perform the necessary imports\n",
    "import pandas as pd\n",
    "from sklearn.preprocessing import normalize\n",
    "\n",
    "# Normalize the NMF features: norm_features\n",
    "norm_features = normalize(nmf_features)\n",
    "\n",
    "# Create a DataFrame: df\n",
    "df = pd.DataFrame(norm_features, index=titles)\n",
    "\n",
    "# Select the 8th document: article\n",
    "article = df.iloc[7,:]"
   ]
  },
  {
   "cell_type": "code",
   "execution_count": 10,
   "metadata": {},
   "outputs": [],
   "source": [
    "# Compute the dot products: similarities\n",
    "similarities = df.dot(article)"
   ]
  },
  {
   "cell_type": "markdown",
   "metadata": {},
   "source": [
    "- compare NMF feature values by cosine similarity: angles between the lines\n",
    "- Different versions of the same document have same topic proporrions but exact feature values maybe different\n",
    "- all versions lie on the same line"
   ]
  },
  {
   "cell_type": "code",
   "execution_count": 11,
   "metadata": {
    "scrolled": true
   },
   "outputs": [
    {
     "name": "stdout",
     "output_type": "stream",
     "text": [
      "1\n",
      " Lady Apache  Sandra González Calderón (born June 26, 1970) is a Mexican professional wrestler or \"Luchadora\", best known under the ring name Lady Apache. González's ring name comes from the \"family name\" of Mario Balbuena González who wrestles under the name Gran Apache; whom she was married to when she made her wrestling debut in 1986 but later divorced. Through her marriage to Gran Apache she was the step mother of Faby Apache and Mari Apache, both professional wrestlers. González' second husband was Jesus Alvarado Nieves, better known as \"Brazo de Oro\", a professional wrestler, current head of the wrestlers union and CMLL booker. Her third and current husband is Edgar Luna Pozos, AAA's Electroshock, she is also the sister-in-law to Charly Manson (Jesus Luna Pozos). As Lady Apache, González has mainly worked for Consejo Mundial de Lucha Libre (CMLL) and Asistencia Asesoría y Administración (AAA), Mexico's two largest professional wrestling promotions during her career, switching back and forth several times. González is a three time CMLL World Women's Champion, a two time Mexican National Women's Champion, two time \"AAA Reina de Reinas\" (Spanish for \"Queen of Queens\") and one half of the AAA World Mixed Tag Team Championship with husband Electroshock. On August 20, 2010 it was announced that Lady Apache was pregnant and for that reason had to stop wrestling for at least seven months. She made her return to the wrestling ring at a CMLL event on July 31, 2011.                                                                                                                                                                                                                                                                                                                                                                                                                                                                                                                                                                                                                                                                                                                                                                                                                                                                                                                                                                                                                                                                                                                                                                                                                                                                                                                                                                                                                                                                                                                                                                                                                                                                                                                                                                                                                                                                                                                                                                    1.000000\n",
      " Beth Greene  Beth Greene is a fictional character from the American television series \"The Walking Dead\" portrayed by Emily Kinney. She is an original character and has no comic counterpart. Beth started the series as a recurring character in Season 2 and Season 3, and will be featured as a series regular in Season 4. Television series. Season 2. Beth Greene is Hershel's younger daughter and Maggie's younger half-sister. She sinks into a deep depression after watching her family members and neighbors - who had become walkers and were being housed in her father's barn - get shot. (One of these was her mother, Annette, who was still undead and tried to attack Beth when she ran to her, only to be pulled away from Beth and killed by Andrea.) She attempts to convince Maggie to commit suicide with her and shortly afterward, attempts it on her own by cutting her wrists in the bathroom, but eventually she changes her mind. She later loses her boyfriend Jimmy when the barn is over run by zombies, as well as Patricia, a farmhand on the Greene farm who was very much a member of the family to her. Season 3. At the beginning of season 3, Beth becomes a more confident and useful member of the group, and is skilled at killing walkers. She also seems to have caught the attention of Carl Grimes who has a child crush on her. Much of her storyline in season 3 revolves around worrying and caring for her father, who had been bitten by a walker on the leg (which was immediately amputated by Rick Grimes to prevent the infection from spreading) and subsequently recovered. At the prison, she is often seen looking after baby Judith. When the Governor attacks the prison a second time, Beth hides with her father and Carl in the forest, and returns to the prison when the Woodbury army retreat. Season 4. Beth will return in this season, and will be upgraded to the main cast.                                                                                                                                                                                                                                                                                                                                                                                                                                                                                                                                                                                                                                                                                                                                                                                                                                                                                                                                                                                                                                                                                                                                                                                                                                                                                                                                                                                                                                                                                                                                                           0.999853\n",
      " Sarah Henrickson  Sarah Elizabeth Henrickson is a character on the HBO series \"Big Love\". She is portrayed by Amanda Seyfried. Sarah is the eldest child of Bill Henrickson with his first and legal wife Barbara Henrickson. Though only a supporting character in the first two seasons, Sarah became popular in the show in its third season until actress Amanda Seyfried decided to depart the show to focus on her movie career at the end of season four. She returned in the series finale in the last scene. Seyfried was praised by fans and critics for her portrayal as Sarah. Biography. Season 1. Sarah, age 18 in season 1, struggles with the choices her parents made when she was a child to follow the fundamentalist principle of polygamy. She works in a fast food restaurant and meets Heather, who becomes her best friend who knows her secret. Sarah always hated polygamy and rejects the idea of becoming involved in polygamy in her own romantic relationships. In the season finale, everybody knows about her family secret. Season 2. In the second season she joins a support group for ex-Mormons. There she meets Scott, who is 10 years older than she is, and the two date. Season 3. Sarah and Scott have a rocky relationship. In the second episode she breaks up with Scott and learns she is pregnant, but she doesn't tell him. She eventually wants to go to prom and takes Ben and her cousin, Frankie, as their dates to her and Heather. In the end of the episode, she tells Ben the truth about her teen pregnancy. Sarah has no idea what to do with the baby. In the sixth episode \"Come, Ye Saints\", when the Henricksons take a trip, Barb accuses Sarah of taking Nicki's birth control. At the end of the episode Sarah miscarries her baby. She decides not to attend college, a decision that ends her friendship with Heather temporarily. In the ninth episode, Scott shows up at her house to try to see her and is told to leave by her father. However, in the season 3 finale, Sarah asks Scott to marry her and he accepts. Margene is excited, Barb and Ben are opposed, and Bill, reluctant at first, eventually agrees to give his blessing, saying he has no other choice. Season 4. Sarah and Scott are married in the second episode, in a secular ceremony in the communal backyard of the Henricksons' homes, conducted by a Justice of the Peace. Scott goes away for business and Sarah takes it upon herself to help an American Indian girl who is a drug abuser. She and Scott go on their honeymoon to Portland. In the eighth episode \"Next Ticket Out\" she shocks the family by telling them that she and Scott will leave Utah to move to Portland to start a new life together. Bill at first doesn't agree, but at the end, he lets her go along with Barb, Nicki and Margene. She left after Teenie's birthday. Season 5. Sarah doesn't return to the fifth season as regular, but returns in the series finale in the last scene of the show. Her appearance was shown 11 months after Bill dies. She and Scott are still married and they have a baby named Bill (in honor of her father).                                                                                                                                                                                                                                                                                                                               0.999484\n",
      " Elsa Hosk  Elsa Anna Sofie Hosk (born 7 November 1988) is a Swedish fashion model who has worked for a number of leading brands including Dior, Dolce & Gabbana, Ungaro, H&M, Lilly Pulitzer and Guess. She modeled for Victoria's Secret, appearing in the brand's annual fashion show in 2011 and 2012. She also has appeared in many of the brand's campaigns, especially for the sub-division PINK. She has also played professional basketball in Sweden. Career. Growing up in Sweden, Hosk was presented with offers to model during high school after her father submitted photographs to various modeling agencies in Sweden when she was 13; she began modeling at 14. She did some modeling in high school but decided to primarily concentrate on her studies instead (she did some notable work with Guess and other companies however). After graduating, she decided to pursue a career in the Swedish women's basketball league. Hosk has commented that the level of play in the Swedish professional basketball league was not on par with the WNBA, and that interest in the sport was not as great in Sweden as in the United States. Although she ultimately abandoned professional basketball for modeling, Hosk has said that the intense rigor of practices (8 per week when playing basketball) and travel helped prepare her for the physical and travel demands of the modeling world. After playing professional basketball for two years, she began receiving many job offers and soon moved to New York City to begin modeling full-time. Some writers have speculated that her work with Victoria's Secret was what brought her into the top tier fashion world, but Hosk also identifies her work with photographer Ellen von Unwerth in campaigns for Guess. Personal life. Elsa Hosk is the daughter of father Pål and mother Marja. She has two siblings, a younger brother Lukas and older brother Johan. Her cousin, Alice Herbst, is also a model. Herbst won the televised competition of \"Sweden's Next Top Model\" in 2012. Hosk has worked to support the anti-human-trafficking organization, FAIR Girls. She became interested in the issue after seeing the movie \"The Whistleblower\", which dealt with issues of sex trafficking.                                                                                                                                                                                                                                                                                                                                                                                                                                                                                                                                                                                                                                                                                                                                                                                                                                                                                                                                                                                                                                                                                                                                                                                                                                  0.999412\n",
      " Roberta Mancino  Roberta Mancino is an Italian skydiver, BASE jumper, wingsuit flyer and international model. She has participated in more than 7,000 skydives and won several awards and world records. She has gone on four skydives while completely naked, and on five occasions her parachute did not open in mid-jump. In 2010, Mancino was named the World's Sexiest Female Athlete by the magazine \"Men's Fitness\". Biography. Born in Italy, Mancino was 16 when she did her first modeling work for a magazine. She started skydiving in October 2001. Mancino convinced her best friend, a skydiver, to take her on a jump even though he encouraged her not to because it was too dangerous. She began to take it more seriously as a profession when people started asking her to coach them. Eventually, Mancino started participating in international competitions. She regularly trains at the Skyventure XP Paraclete in North Carolina. Her parachute has malfunctioned five times though she was able to use the reserve. She has also made four jumps while completely naked for magazine photo shoots. In 2008, Mancino appeared on the Italian television program Le Iene with Marco Berry, jumping topless and demonstrating her freeflying and sit flying skills. Mancino met her boyfriend BASE jumper Jeb Corliss, in 2009 after he learned about her jumps and arranged to meet her. In 2009, after having made about 5,500 skydives, Mancino started BASE jumping along with Corliss. She performed in 115 BASE jumps (35 with wingsuit) between August 2009 and September 2011. Also inspired by Corliss, she began wingsuit flying, which involves jumping from an aircraft wearing a jumpsuit with webbed wings similar to a flying squirrel. This led to proximity flying, which is the flying of a wingsuit in close proximity to cliffs and trees during the flight, the jumper then deploys their parachute once they have moved a safe distance away from any hazards (similar to BASE jumping in this respect). One of her dreams is to BASE jump off the Burj Khalifa, the tallest man-made structure in the world, and circle around it as she goes down. She also aspires to jump out of a plane and reenter the same plane as it dives. She has participated in big way formation skydiving. Regarding freestyle skydiving, Mancino said, \"It becomes kind of boring to me because it’s too solitary ... I prefer group activity\". As a model, she has appeared in \"Men's Fitness\", \"Vanity Fair\", \"Allure\", \"Maxim\", \"Men's Health\", \"Max\". In 2010, Mancino was named the World's Sexiest Female Athlete by the magazine \"Men's Fitness\". As of December 2010, Mancino has gone on more than 7,000 skydives. Records and awards. In 2003, Roberta Mancino placed first in the Malevski Cup at the Russia Freestyle and the Space Games Freestyle. In 2004, she won first place in the Tunnel Competition in Orlando, Florida. She received both the Italian Record and Euro Record for skydiving in 2005, and won first place in the Tunnel Competition in Perris Valley, California. In 2007, Mancino broke the European Record for Formation Freefly and the World Record for Formation 69-Way Freefly. Also that year, she placed first in the Italian Nationals of Skydiving. In 2009, she took part to a world record 108-way freefly in Chicago. In September 2013 she placed 2nd overall women in the ProBase Worldcup held in Stechelberg, Switzerland.     0.999260\n",
      "dtype: float64\n"
     ]
    }
   ],
   "source": [
    "# Display those with the largest cosine similarity\n",
    "print(similarities.nlargest())"
   ]
  },
  {
   "cell_type": "markdown",
   "metadata": {},
   "source": [
    "## NMF FOR TEXT APPLICATION: RECOMMENDER SYSTEM II"
   ]
  },
  {
   "cell_type": "markdown",
   "metadata": {},
   "source": [
    "### Recommend music artists"
   ]
  },
  {
   "cell_type": "markdown",
   "metadata": {},
   "source": [
    "dataset:  rows correspond to artists and whose column correspond to users => find similaritiy point for 1 artist => if a user like A, he may like B\n"
   ]
  },
  {
   "cell_type": "code",
   "execution_count": 12,
   "metadata": {},
   "outputs": [],
   "source": [
    "# Perform the necessary imports\n",
    "from sklearn.decomposition import NMF\n",
    "from sklearn.preprocessing import Normalizer, MaxAbsScaler\n",
    "from sklearn.pipeline import make_pipeline\n",
    "\n",
    "# data\n",
    "import scipy\n",
    "data_artist = pd.read_csv('scrobbler-small-sample.csv')\n",
    "data_artist2 = data_artist.pivot(index = 'artist_offset',\n",
    "                                 columns = 'user_offset',\n",
    "                                 values = 'playcount')\n",
    "artists = data_artist2.fillna(0).values\n",
    "artists = scipy.sparse.csr_matrix(artists)"
   ]
  },
  {
   "cell_type": "code",
   "execution_count": 13,
   "metadata": {},
   "outputs": [
    {
     "data": {
      "text/html": [
       "<div>\n",
       "<style scoped>\n",
       "    .dataframe tbody tr th:only-of-type {\n",
       "        vertical-align: middle;\n",
       "    }\n",
       "\n",
       "    .dataframe tbody tr th {\n",
       "        vertical-align: top;\n",
       "    }\n",
       "\n",
       "    .dataframe thead th {\n",
       "        text-align: right;\n",
       "    }\n",
       "</style>\n",
       "<table border=\"1\" class=\"dataframe\">\n",
       "  <thead>\n",
       "    <tr style=\"text-align: right;\">\n",
       "      <th></th>\n",
       "      <th>user_offset</th>\n",
       "      <th>artist_offset</th>\n",
       "      <th>playcount</th>\n",
       "    </tr>\n",
       "  </thead>\n",
       "  <tbody>\n",
       "    <tr>\n",
       "      <th>0</th>\n",
       "      <td>1</td>\n",
       "      <td>79</td>\n",
       "      <td>58</td>\n",
       "    </tr>\n",
       "    <tr>\n",
       "      <th>1</th>\n",
       "      <td>1</td>\n",
       "      <td>84</td>\n",
       "      <td>80</td>\n",
       "    </tr>\n",
       "    <tr>\n",
       "      <th>2</th>\n",
       "      <td>1</td>\n",
       "      <td>86</td>\n",
       "      <td>317</td>\n",
       "    </tr>\n",
       "    <tr>\n",
       "      <th>3</th>\n",
       "      <td>1</td>\n",
       "      <td>89</td>\n",
       "      <td>64</td>\n",
       "    </tr>\n",
       "    <tr>\n",
       "      <th>4</th>\n",
       "      <td>1</td>\n",
       "      <td>96</td>\n",
       "      <td>159</td>\n",
       "    </tr>\n",
       "  </tbody>\n",
       "</table>\n",
       "</div>"
      ],
      "text/plain": [
       "   user_offset  artist_offset  playcount\n",
       "0            1             79         58\n",
       "1            1             84         80\n",
       "2            1             86        317\n",
       "3            1             89         64\n",
       "4            1             96        159"
      ]
     },
     "execution_count": 13,
     "metadata": {},
     "output_type": "execute_result"
    }
   ],
   "source": [
    "data_artist.head()"
   ]
  },
  {
   "cell_type": "code",
   "execution_count": 14,
   "metadata": {},
   "outputs": [
    {
     "data": {
      "text/html": [
       "<div>\n",
       "<style scoped>\n",
       "    .dataframe tbody tr th:only-of-type {\n",
       "        vertical-align: middle;\n",
       "    }\n",
       "\n",
       "    .dataframe tbody tr th {\n",
       "        vertical-align: top;\n",
       "    }\n",
       "\n",
       "    .dataframe thead th {\n",
       "        text-align: right;\n",
       "    }\n",
       "</style>\n",
       "<table border=\"1\" class=\"dataframe\">\n",
       "  <thead>\n",
       "    <tr style=\"text-align: right;\">\n",
       "      <th>user_offset</th>\n",
       "      <th>0</th>\n",
       "      <th>1</th>\n",
       "      <th>2</th>\n",
       "      <th>3</th>\n",
       "      <th>4</th>\n",
       "      <th>5</th>\n",
       "      <th>6</th>\n",
       "      <th>7</th>\n",
       "      <th>8</th>\n",
       "      <th>9</th>\n",
       "      <th>...</th>\n",
       "      <th>490</th>\n",
       "      <th>491</th>\n",
       "      <th>492</th>\n",
       "      <th>493</th>\n",
       "      <th>494</th>\n",
       "      <th>495</th>\n",
       "      <th>496</th>\n",
       "      <th>497</th>\n",
       "      <th>498</th>\n",
       "      <th>499</th>\n",
       "    </tr>\n",
       "    <tr>\n",
       "      <th>artist_offset</th>\n",
       "      <th></th>\n",
       "      <th></th>\n",
       "      <th></th>\n",
       "      <th></th>\n",
       "      <th></th>\n",
       "      <th></th>\n",
       "      <th></th>\n",
       "      <th></th>\n",
       "      <th></th>\n",
       "      <th></th>\n",
       "      <th></th>\n",
       "      <th></th>\n",
       "      <th></th>\n",
       "      <th></th>\n",
       "      <th></th>\n",
       "      <th></th>\n",
       "      <th></th>\n",
       "      <th></th>\n",
       "      <th></th>\n",
       "      <th></th>\n",
       "      <th></th>\n",
       "    </tr>\n",
       "  </thead>\n",
       "  <tbody>\n",
       "    <tr>\n",
       "      <th>0</th>\n",
       "      <td>NaN</td>\n",
       "      <td>NaN</td>\n",
       "      <td>105.0</td>\n",
       "      <td>NaN</td>\n",
       "      <td>NaN</td>\n",
       "      <td>NaN</td>\n",
       "      <td>NaN</td>\n",
       "      <td>NaN</td>\n",
       "      <td>NaN</td>\n",
       "      <td>NaN</td>\n",
       "      <td>...</td>\n",
       "      <td>NaN</td>\n",
       "      <td>NaN</td>\n",
       "      <td>NaN</td>\n",
       "      <td>NaN</td>\n",
       "      <td>NaN</td>\n",
       "      <td>NaN</td>\n",
       "      <td>NaN</td>\n",
       "      <td>NaN</td>\n",
       "      <td>NaN</td>\n",
       "      <td>NaN</td>\n",
       "    </tr>\n",
       "    <tr>\n",
       "      <th>1</th>\n",
       "      <td>128.0</td>\n",
       "      <td>211.0</td>\n",
       "      <td>NaN</td>\n",
       "      <td>NaN</td>\n",
       "      <td>NaN</td>\n",
       "      <td>NaN</td>\n",
       "      <td>NaN</td>\n",
       "      <td>NaN</td>\n",
       "      <td>NaN</td>\n",
       "      <td>NaN</td>\n",
       "      <td>...</td>\n",
       "      <td>NaN</td>\n",
       "      <td>NaN</td>\n",
       "      <td>NaN</td>\n",
       "      <td>270.0</td>\n",
       "      <td>NaN</td>\n",
       "      <td>105.0</td>\n",
       "      <td>97.0</td>\n",
       "      <td>NaN</td>\n",
       "      <td>NaN</td>\n",
       "      <td>NaN</td>\n",
       "    </tr>\n",
       "    <tr>\n",
       "      <th>2</th>\n",
       "      <td>NaN</td>\n",
       "      <td>NaN</td>\n",
       "      <td>NaN</td>\n",
       "      <td>NaN</td>\n",
       "      <td>NaN</td>\n",
       "      <td>NaN</td>\n",
       "      <td>NaN</td>\n",
       "      <td>NaN</td>\n",
       "      <td>NaN</td>\n",
       "      <td>NaN</td>\n",
       "      <td>...</td>\n",
       "      <td>NaN</td>\n",
       "      <td>NaN</td>\n",
       "      <td>NaN</td>\n",
       "      <td>NaN</td>\n",
       "      <td>NaN</td>\n",
       "      <td>NaN</td>\n",
       "      <td>NaN</td>\n",
       "      <td>NaN</td>\n",
       "      <td>NaN</td>\n",
       "      <td>NaN</td>\n",
       "    </tr>\n",
       "    <tr>\n",
       "      <th>3</th>\n",
       "      <td>NaN</td>\n",
       "      <td>NaN</td>\n",
       "      <td>NaN</td>\n",
       "      <td>NaN</td>\n",
       "      <td>NaN</td>\n",
       "      <td>NaN</td>\n",
       "      <td>NaN</td>\n",
       "      <td>NaN</td>\n",
       "      <td>NaN</td>\n",
       "      <td>NaN</td>\n",
       "      <td>...</td>\n",
       "      <td>NaN</td>\n",
       "      <td>NaN</td>\n",
       "      <td>NaN</td>\n",
       "      <td>NaN</td>\n",
       "      <td>NaN</td>\n",
       "      <td>NaN</td>\n",
       "      <td>NaN</td>\n",
       "      <td>NaN</td>\n",
       "      <td>NaN</td>\n",
       "      <td>NaN</td>\n",
       "    </tr>\n",
       "    <tr>\n",
       "      <th>4</th>\n",
       "      <td>NaN</td>\n",
       "      <td>NaN</td>\n",
       "      <td>NaN</td>\n",
       "      <td>NaN</td>\n",
       "      <td>NaN</td>\n",
       "      <td>NaN</td>\n",
       "      <td>NaN</td>\n",
       "      <td>NaN</td>\n",
       "      <td>NaN</td>\n",
       "      <td>NaN</td>\n",
       "      <td>...</td>\n",
       "      <td>NaN</td>\n",
       "      <td>NaN</td>\n",
       "      <td>NaN</td>\n",
       "      <td>NaN</td>\n",
       "      <td>NaN</td>\n",
       "      <td>NaN</td>\n",
       "      <td>NaN</td>\n",
       "      <td>NaN</td>\n",
       "      <td>NaN</td>\n",
       "      <td>NaN</td>\n",
       "    </tr>\n",
       "  </tbody>\n",
       "</table>\n",
       "<p>5 rows × 500 columns</p>\n",
       "</div>"
      ],
      "text/plain": [
       "user_offset      0      1      2    3    4    5    6    7    8    9   ...   \\\n",
       "artist_offset                                                         ...    \n",
       "0                NaN    NaN  105.0  NaN  NaN  NaN  NaN  NaN  NaN  NaN ...    \n",
       "1              128.0  211.0    NaN  NaN  NaN  NaN  NaN  NaN  NaN  NaN ...    \n",
       "2                NaN    NaN    NaN  NaN  NaN  NaN  NaN  NaN  NaN  NaN ...    \n",
       "3                NaN    NaN    NaN  NaN  NaN  NaN  NaN  NaN  NaN  NaN ...    \n",
       "4                NaN    NaN    NaN  NaN  NaN  NaN  NaN  NaN  NaN  NaN ...    \n",
       "\n",
       "user_offset    490  491  492    493  494    495   496  497  498  499  \n",
       "artist_offset                                                         \n",
       "0              NaN  NaN  NaN    NaN  NaN    NaN   NaN  NaN  NaN  NaN  \n",
       "1              NaN  NaN  NaN  270.0  NaN  105.0  97.0  NaN  NaN  NaN  \n",
       "2              NaN  NaN  NaN    NaN  NaN    NaN   NaN  NaN  NaN  NaN  \n",
       "3              NaN  NaN  NaN    NaN  NaN    NaN   NaN  NaN  NaN  NaN  \n",
       "4              NaN  NaN  NaN    NaN  NaN    NaN   NaN  NaN  NaN  NaN  \n",
       "\n",
       "[5 rows x 500 columns]"
      ]
     },
     "execution_count": 14,
     "metadata": {},
     "output_type": "execute_result"
    }
   ],
   "source": [
    "data_artist2.head()"
   ]
  },
  {
   "cell_type": "code",
   "execution_count": 21,
   "metadata": {},
   "outputs": [],
   "source": [
    "# Create a MaxAbsScaler: \n",
    "scaler = MaxAbsScaler()"
   ]
  },
  {
   "cell_type": "markdown",
   "metadata": {},
   "source": [
    " transforms the data so that all users have the same influence on the model, regardless of how many different artists they've listened to.\n"
   ]
  },
  {
   "cell_type": "code",
   "execution_count": 22,
   "metadata": {},
   "outputs": [],
   "source": [
    "# Create an NMF model: nmf\n",
    "nmf = NMF(n_components=20)\n",
    "\n",
    "# Create a Normalizer: normalizer\n",
    "normalizer = Normalizer()\n",
    "\n",
    "# Create a pipeline: pipeline\n",
    "pipeline = make_pipeline(scaler, nmf, normalizer)\n",
    "\n",
    "# Apply fit_transform to artists: norm_features\n",
    "norm_features = pipeline.fit_transform(artists)\n",
    "\n",
    "# Import pandas\n",
    "import pandas as pd\n",
    "\n",
    "# Create a DataFrame: df\n",
    "artist_names = pd.read_csv('artists.csv').values\n",
    "artist_names = [item for sublist in artist_names for item in sublist]\n",
    "df = pd.DataFrame(norm_features, index=artist_names)"
   ]
  },
  {
   "cell_type": "code",
   "execution_count": 23,
   "metadata": {},
   "outputs": [
    {
     "data": {
      "text/html": [
       "<div>\n",
       "<style scoped>\n",
       "    .dataframe tbody tr th:only-of-type {\n",
       "        vertical-align: middle;\n",
       "    }\n",
       "\n",
       "    .dataframe tbody tr th {\n",
       "        vertical-align: top;\n",
       "    }\n",
       "\n",
       "    .dataframe thead th {\n",
       "        text-align: right;\n",
       "    }\n",
       "</style>\n",
       "<table border=\"1\" class=\"dataframe\">\n",
       "  <thead>\n",
       "    <tr style=\"text-align: right;\">\n",
       "      <th></th>\n",
       "      <th>0</th>\n",
       "      <th>1</th>\n",
       "      <th>2</th>\n",
       "      <th>3</th>\n",
       "      <th>4</th>\n",
       "      <th>5</th>\n",
       "      <th>6</th>\n",
       "      <th>7</th>\n",
       "      <th>8</th>\n",
       "      <th>9</th>\n",
       "      <th>10</th>\n",
       "      <th>11</th>\n",
       "      <th>12</th>\n",
       "      <th>13</th>\n",
       "      <th>14</th>\n",
       "      <th>15</th>\n",
       "      <th>16</th>\n",
       "      <th>17</th>\n",
       "      <th>18</th>\n",
       "      <th>19</th>\n",
       "    </tr>\n",
       "  </thead>\n",
       "  <tbody>\n",
       "    <tr>\n",
       "      <th>Sublime</th>\n",
       "      <td>0.000000</td>\n",
       "      <td>0.000000</td>\n",
       "      <td>0.0</td>\n",
       "      <td>0.000000</td>\n",
       "      <td>0.005768</td>\n",
       "      <td>0.0</td>\n",
       "      <td>0.0</td>\n",
       "      <td>0.055923</td>\n",
       "      <td>0.0</td>\n",
       "      <td>0.000000</td>\n",
       "      <td>0.005143</td>\n",
       "      <td>0.0</td>\n",
       "      <td>0.001427</td>\n",
       "      <td>0.998003</td>\n",
       "      <td>0.0</td>\n",
       "      <td>0.000000</td>\n",
       "      <td>0.000000</td>\n",
       "      <td>0.000000</td>\n",
       "      <td>0.028302</td>\n",
       "      <td>0.0</td>\n",
       "    </tr>\n",
       "    <tr>\n",
       "      <th>Beastie Boys</th>\n",
       "      <td>0.000000</td>\n",
       "      <td>0.000000</td>\n",
       "      <td>0.0</td>\n",
       "      <td>0.000000</td>\n",
       "      <td>0.000000</td>\n",
       "      <td>0.0</td>\n",
       "      <td>0.0</td>\n",
       "      <td>0.000000</td>\n",
       "      <td>0.0</td>\n",
       "      <td>0.000000</td>\n",
       "      <td>0.000000</td>\n",
       "      <td>0.0</td>\n",
       "      <td>0.000000</td>\n",
       "      <td>0.005742</td>\n",
       "      <td>0.0</td>\n",
       "      <td>0.000000</td>\n",
       "      <td>0.000000</td>\n",
       "      <td>0.000000</td>\n",
       "      <td>0.999984</td>\n",
       "      <td>0.0</td>\n",
       "    </tr>\n",
       "    <tr>\n",
       "      <th>Neil Young</th>\n",
       "      <td>0.000000</td>\n",
       "      <td>0.000000</td>\n",
       "      <td>0.0</td>\n",
       "      <td>0.000000</td>\n",
       "      <td>0.000000</td>\n",
       "      <td>0.0</td>\n",
       "      <td>0.0</td>\n",
       "      <td>0.000000</td>\n",
       "      <td>0.0</td>\n",
       "      <td>0.000000</td>\n",
       "      <td>0.000000</td>\n",
       "      <td>1.0</td>\n",
       "      <td>0.000000</td>\n",
       "      <td>0.000000</td>\n",
       "      <td>0.0</td>\n",
       "      <td>0.000000</td>\n",
       "      <td>0.000000</td>\n",
       "      <td>0.000000</td>\n",
       "      <td>0.000000</td>\n",
       "      <td>0.0</td>\n",
       "    </tr>\n",
       "    <tr>\n",
       "      <th>Dead Kennedys</th>\n",
       "      <td>0.268943</td>\n",
       "      <td>0.000000</td>\n",
       "      <td>0.0</td>\n",
       "      <td>0.057830</td>\n",
       "      <td>0.000000</td>\n",
       "      <td>0.0</td>\n",
       "      <td>0.0</td>\n",
       "      <td>0.000000</td>\n",
       "      <td>0.0</td>\n",
       "      <td>0.000000</td>\n",
       "      <td>0.000000</td>\n",
       "      <td>0.0</td>\n",
       "      <td>0.000000</td>\n",
       "      <td>0.000000</td>\n",
       "      <td>0.0</td>\n",
       "      <td>0.959089</td>\n",
       "      <td>0.064655</td>\n",
       "      <td>0.000000</td>\n",
       "      <td>0.017117</td>\n",
       "      <td>0.0</td>\n",
       "    </tr>\n",
       "    <tr>\n",
       "      <th>Orbital</th>\n",
       "      <td>0.000000</td>\n",
       "      <td>0.013488</td>\n",
       "      <td>0.0</td>\n",
       "      <td>0.581944</td>\n",
       "      <td>0.000000</td>\n",
       "      <td>0.0</td>\n",
       "      <td>0.0</td>\n",
       "      <td>0.000000</td>\n",
       "      <td>0.0</td>\n",
       "      <td>0.742819</td>\n",
       "      <td>0.000000</td>\n",
       "      <td>0.0</td>\n",
       "      <td>0.138846</td>\n",
       "      <td>0.000000</td>\n",
       "      <td>0.0</td>\n",
       "      <td>0.079050</td>\n",
       "      <td>0.000000</td>\n",
       "      <td>0.289573</td>\n",
       "      <td>0.000000</td>\n",
       "      <td>0.0</td>\n",
       "    </tr>\n",
       "  </tbody>\n",
       "</table>\n",
       "</div>"
      ],
      "text/plain": [
       "                     0         1    2         3         4    5    6   \\\n",
       "Sublime        0.000000  0.000000  0.0  0.000000  0.005768  0.0  0.0   \n",
       "Beastie Boys   0.000000  0.000000  0.0  0.000000  0.000000  0.0  0.0   \n",
       "Neil Young     0.000000  0.000000  0.0  0.000000  0.000000  0.0  0.0   \n",
       "Dead Kennedys  0.268943  0.000000  0.0  0.057830  0.000000  0.0  0.0   \n",
       "Orbital        0.000000  0.013488  0.0  0.581944  0.000000  0.0  0.0   \n",
       "\n",
       "                     7    8         9         10   11        12        13  \\\n",
       "Sublime        0.055923  0.0  0.000000  0.005143  0.0  0.001427  0.998003   \n",
       "Beastie Boys   0.000000  0.0  0.000000  0.000000  0.0  0.000000  0.005742   \n",
       "Neil Young     0.000000  0.0  0.000000  0.000000  1.0  0.000000  0.000000   \n",
       "Dead Kennedys  0.000000  0.0  0.000000  0.000000  0.0  0.000000  0.000000   \n",
       "Orbital        0.000000  0.0  0.742819  0.000000  0.0  0.138846  0.000000   \n",
       "\n",
       "                14        15        16        17        18   19  \n",
       "Sublime        0.0  0.000000  0.000000  0.000000  0.028302  0.0  \n",
       "Beastie Boys   0.0  0.000000  0.000000  0.000000  0.999984  0.0  \n",
       "Neil Young     0.0  0.000000  0.000000  0.000000  0.000000  0.0  \n",
       "Dead Kennedys  0.0  0.959089  0.064655  0.000000  0.017117  0.0  \n",
       "Orbital        0.0  0.079050  0.000000  0.289573  0.000000  0.0  "
      ]
     },
     "execution_count": 23,
     "metadata": {},
     "output_type": "execute_result"
    }
   ],
   "source": [
    "df.head()"
   ]
  },
  {
   "cell_type": "code",
   "execution_count": 25,
   "metadata": {},
   "outputs": [
    {
     "name": "stdout",
     "output_type": "stream",
     "text": [
      "Thanh Hoang              1.000000\n",
      "PJ Harvey                0.835963\n",
      "Ramones                  0.617654\n",
      "Tom Waits                0.590059\n",
      "The Chemical Brothers    0.565810\n",
      "dtype: float64\n"
     ]
    }
   ],
   "source": [
    "# Select row of 'Bruce Springsteen': artist\n",
    "artist = df.loc['Thanh Hoang']\n",
    "\n",
    "# Compute cosine similarities: similarities\n",
    "similarities = df.dot(artist)\n",
    "\n",
    "# Display those with highest cosine similarity\n",
    "print(similarities.nlargest())"
   ]
  },
  {
   "cell_type": "markdown",
   "metadata": {},
   "source": [
    "## NMF FOR IMAGES"
   ]
  },
  {
   "cell_type": "markdown",
   "metadata": {},
   "source": [
    "For images, NMF components are parts of images"
   ]
  },
  {
   "cell_type": "code",
   "execution_count": 28,
   "metadata": {
    "scrolled": true
   },
   "outputs": [
    {
     "name": "stdout",
     "output_type": "stream",
     "text": [
      "0.0       0.0\n",
      "0.0.1     0.0\n",
      "0.0.2     0.0\n",
      "0.0.3     0.0\n",
      "0.0.4     0.0\n",
      "0.0.5     0.0\n",
      "0.0.6     0.0\n",
      "0.0.7     0.0\n",
      "0.0.8     0.0\n",
      "0.0.9     0.0\n",
      "1.0       1.0\n",
      "1.0.1     1.0\n",
      "1.0.2     1.0\n",
      "1.0.3     1.0\n",
      "0.0.10    0.0\n",
      "0.0.11    0.0\n",
      "0.0.12    0.0\n",
      "0.0.13    1.0\n",
      "0.0.14    0.0\n",
      "0.0.15    0.0\n",
      "0.0.16    0.0\n",
      "0.0.17    0.0\n",
      "1.0.4     1.0\n",
      "0.0.18    0.0\n",
      "0.0.19    0.0\n",
      "0.0.20    1.0\n",
      "0.0.21    0.0\n",
      "0.0.22    0.0\n",
      "0.0.23    0.0\n",
      "0.0.24    0.0\n",
      "         ... \n",
      "0.0.64    0.0\n",
      "0.0.65    0.0\n",
      "0.0.66    0.0\n",
      "0.0.67    0.0\n",
      "1.0.10    0.0\n",
      "0.0.68    0.0\n",
      "0.0.69    0.0\n",
      "0.0.70    0.0\n",
      "0.0.71    0.0\n",
      "0.0.72    0.0\n",
      "0.0.73    0.0\n",
      "0.0.74    0.0\n",
      "1.0.11    0.0\n",
      "0.0.75    0.0\n",
      "0.0.76    0.0\n",
      "0.0.77    0.0\n",
      "0.0.78    0.0\n",
      "0.0.79    0.0\n",
      "0.0.80    0.0\n",
      "0.0.81    0.0\n",
      "0.0.82    0.0\n",
      "0.0.83    0.0\n",
      "0.0.84    0.0\n",
      "0.0.85    0.0\n",
      "0.0.86    0.0\n",
      "0.0.87    0.0\n",
      "0.0.88    0.0\n",
      "0.0.89    0.0\n",
      "0.0.90    0.0\n",
      "0.0.91    0.0\n",
      "Name: 0, Length: 104, dtype: float64\n"
     ]
    }
   ],
   "source": [
    "# Read lcd data\n",
    "samples = pd.read_csv('lcd-digits.csv')\n",
    "\n",
    "# Import pyplot\n",
    "from matplotlib import pyplot as plt\n",
    "\n",
    "# Select the 0th row: digit\n",
    "digit = samples.loc[0,:]\n",
    "\n",
    "# Print digit\n",
    "print(digit)"
   ]
  },
  {
   "cell_type": "code",
   "execution_count": 33,
   "metadata": {},
   "outputs": [
    {
     "data": {
      "image/png": "[encoded data removed]",
      "text/plain": [
       "<Figure size 432x288 with 2 Axes>"
      ]
     },
     "metadata": {
      "needs_background": "light"
     },
     "output_type": "display_data"
    }
   ],
   "source": [
    "# Use plt.imshow to display bitmap\n",
    "def show_as_image(sample):\n",
    "    bitmap = sample.reshape((13, 8))\n",
    "    plt.figure()\n",
    "    plt.imshow(bitmap, cmap='gray', interpolation='nearest')\n",
    "    plt.colorbar()\n",
    "    plt.show()\n",
    "\n",
    "show_as_image(digit.values)"
   ]
  },
  {
   "cell_type": "code",
   "execution_count": 34,
   "metadata": {
    "scrolled": false
   },
   "outputs": [
    {
     "data": {
      "image/png": "[encoded data removed]",
      "text/plain": [
       "<Figure size 432x288 with 2 Axes>"
      ]
     },
     "metadata": {
      "needs_background": "light"
     },
     "output_type": "display_data"
    },
    {
     "data": {
      "image/png": "[encoded data removed]",
      "text/plain": [
       "<Figure size 432x288 with 2 Axes>"
      ]
     },
     "metadata": {
      "needs_background": "light"
     },
     "output_type": "display_data"
    },
    {
     "data": {
      "image/png": "[encoded data removed]",
      "text/plain": [
       "<Figure size 432x288 with 2 Axes>"
      ]
     },
     "metadata": {
      "needs_background": "light"
     },
     "output_type": "display_data"
    },
    {
     "data": {
      "image/png": "[encoded data removed]",
      "text/plain": [
       "<Figure size 432x288 with 2 Axes>"
      ]
     },
     "metadata": {
      "needs_background": "light"
     },
     "output_type": "display_data"
    },
    {
     "data": {
      "image/png": "[encoded data removed]",
      "text/plain": [
       "<Figure size 432x288 with 2 Axes>"
      ]
     },
     "metadata": {
      "needs_background": "light"
     },
     "output_type": "display_data"
    },
    {
     "data": {
      "image/png": "[encoded data removed]",
      "text/plain": [
       "<Figure size 432x288 with 2 Axes>"
      ]
     },
     "metadata": {
      "needs_background": "light"
     },
     "output_type": "display_data"
    },
    {
     "data": {
      "image/png": "[encoded data removed]",
      "text/plain": [
       "<Figure size 432x288 with 2 Axes>"
      ]
     },
     "metadata": {
      "needs_background": "light"
     },
     "output_type": "display_data"
    },
    {
     "name": "stdout",
     "output_type": "stream",
     "text": [
      "[0.56389272 0.         0.59151401 0.         0.53290007 0.48133215\n",
      " 0.        ]\n"
     ]
    }
   ],
   "source": [
    "# Import NMF\n",
    "from sklearn.decomposition import NMF\n",
    "\n",
    "# Create an NMF model: model\n",
    "model = NMF(n_components=7)\n",
    "\n",
    "# Apply fit_transform to samples: features\n",
    "features = model.fit_transform(samples)\n",
    "\n",
    "# Call show_as_image on each component\n",
    "for component in model.components_:\n",
    "    show_as_image(component)\n",
    "\n",
    "# Assign the 0th row of features: digit_features\n",
    "digit_features = features[0,:]\n",
    "\n",
    "# Print digit_features\n",
    "print(digit_features)"
   ]
  },
  {
   "cell_type": "markdown",
   "metadata": {},
   "source": [
    "=> digit normally has 104 pixel and now reduced to 7 components only"
   ]
  }
 ],
 "metadata": {
  "kernelspec": {
   "display_name": "Python 3",
   "language": "python",
   "name": "python3"
  },
  "language_info": {
   "codemirror_mode": {
    "name": "ipython",
    "version": 3
   },
   "file_extension": ".py",
   "mimetype": "text/x-python",
   "name": "python",
   "nbconvert_exporter": "python",
   "pygments_lexer": "ipython3",
   "version": "3.6.8"
  },
  "toc": {
   "base_numbering": 1,
   "nav_menu": {},
   "number_sections": true,
   "sideBar": true,
   "skip_h1_title": false,
   "title_cell": "Table of Contents",
   "title_sidebar": "Contents",
   "toc_cell": true,
   "toc_position": {},
   "toc_section_display": true,
   "toc_window_display": false
  }
 },
 "nbformat": 4,
 "nbformat_minor": 2
}
