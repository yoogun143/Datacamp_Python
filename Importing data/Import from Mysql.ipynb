{
 "cells": [
  {
   "cell_type": "code",
   "execution_count": 4,
   "metadata": {},
   "outputs": [
    {
     "name": "stdout",
     "output_type": "stream",
     "text": [
      "   iddim_member danny  hi\n",
      "0             1     2  33\n",
      "1             2     3  gg\n"
     ]
    },
    {
     "data": {
      "text/plain": [
       "True"
      ]
     },
     "execution_count": 4,
     "metadata": {},
     "output_type": "execute_result"
    }
   ],
   "source": [
    "# Import tables in mysql to dataframe\n",
    "import mysql.connector\n",
    "cnx = mysql.connector.connect(user='root', password='1234',\n",
    "                              host='localhost',\n",
    "                              database='test')\n",
    "cursor = cnx.cursor()\n",
    "cursor.execute('SELECT * FROM dim_member')\n",
    "colname = cursor.column_names\n",
    "a = cursor.fetchall()\n",
    "import pandas as pd\n",
    "b = pd.DataFrame(a)\n",
    "b.columns = colname\n",
    "print(b)\n",
    "cursor.close()"
   ]
  }
 ],
 "metadata": {
  "kernelspec": {
   "display_name": "Python 3",
   "language": "python",
   "name": "python3"
  },
  "language_info": {
   "codemirror_mode": {
    "name": "ipython",
    "version": 3
   },
   "file_extension": ".py",
   "mimetype": "text/x-python",
   "name": "python",
   "nbconvert_exporter": "python",
   "pygments_lexer": "ipython3",
   "version": "3.6.8"
  }
 },
 "nbformat": 4,
 "nbformat_minor": 2
}
